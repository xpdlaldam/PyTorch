{
  "nbformat": 4,
  "nbformat_minor": 0,
  "metadata": {
    "colab": {
      "provenance": [],
      "authorship_tag": "ABX9TyMS5kh/18NVmYjeXGq/U/63",
      "include_colab_link": true
    },
    "kernelspec": {
      "name": "python3",
      "display_name": "Python 3"
    },
    "language_info": {
      "name": "python"
    }
  },
  "cells": [
    {
      "cell_type": "markdown",
      "metadata": {
        "id": "view-in-github",
        "colab_type": "text"
      },
      "source": [
        "<a href=\"https://colab.research.google.com/github/xpdlaldam/PyTorch/blob/main/01_pytorch_workflow.ipynb\" target=\"_parent\"><img src=\"https://colab.research.google.com/assets/colab-badge.svg\" alt=\"Open In Colab\"/></a>"
      ]
    },
    {
      "cell_type": "markdown",
      "source": [
        "# Linear Regression"
      ],
      "metadata": {
        "id": "u9mi4zQCP6hQ"
      }
    },
    {
      "cell_type": "code",
      "execution_count": null,
      "metadata": {
        "id": "yUBkjCcokN_q"
      },
      "outputs": [],
      "source": [
        "import torch\n",
        "from torch import nn ## nn contains all of pytorch's building blocks for nerual networks\n",
        "import matplotlib.pyplot as plt\n",
        "\n",
        "torch.__version__"
      ]
    },
    {
      "cell_type": "code",
      "source": [
        "# Create known parameters\n",
        "weight = .7\n",
        "bias = .3\n",
        "\n",
        "# Create data & model\n",
        "start = 0\n",
        "end = 1\n",
        "step = .02\n",
        "\n",
        "## unsqueeze(dim=1)\n",
        "# adds 1-D i.e., [ => [[\n",
        "# we need 2-D for modeling\n",
        "X = torch.arange(start, end, step).unsqueeze(dim=1)\n",
        "y = weight * X + bias\n",
        "y"
      ],
      "metadata": {
        "id": "GDu0oEYSlteF"
      },
      "execution_count": null,
      "outputs": []
    },
    {
      "cell_type": "code",
      "source": [
        "torch.arange(start, end, step)"
      ],
      "metadata": {
        "id": "4FM1y01rQWnH"
      },
      "execution_count": null,
      "outputs": []
    },
    {
      "cell_type": "markdown",
      "source": [
        "# Split to train & test"
      ],
      "metadata": {
        "id": "wf_OyPfZRgiZ"
      }
    },
    {
      "cell_type": "code",
      "source": [
        "split_ratio = int(.8 * len(X))\n",
        "X_train, y_train = X[:split_ratio], y[:split_ratio]\n",
        "X_test, y_test = X[split_ratio:], y[split_ratio:]\n",
        "\n",
        "len(X_train), len(y_train), len(X_test), len(y_test)"
      ],
      "metadata": {
        "id": "YdAN9gsEQc9R"
      },
      "execution_count": null,
      "outputs": []
    },
    {
      "cell_type": "markdown",
      "source": [
        "# Plot"
      ],
      "metadata": {
        "id": "c_MDgdnCTud6"
      }
    },
    {
      "cell_type": "code",
      "source": [
        "def plot_pred(\n",
        "    train_data=X_train,\n",
        "    train_labels=y_train,\n",
        "    test_data=X_test,\n",
        "    test_labels=y_test,\n",
        "    pred=None,\n",
        "):\n",
        "  \"\"\"\n",
        "  Plots training & test data and compares against predictions\n",
        "  \"\"\"\n",
        "  plt.figure(figsize=(10, 7))\n",
        "  plt.scatter(train_data, train_labels, c=\"b\", s=4, label=\"Train set\") # plots train set\n",
        "  plt.scatter(test_data, test_labels, c=\"g\", s=4, label=\"Test set\") # plots train set\n",
        "\n",
        "  # are there predictions?\n",
        "  # if pred: # this checks if pred is True\n",
        "  if pred is not None: # this checks only the reference pred with None to see if they are the same\n",
        "    plt.scatter(test_data, pred, c=\"r\", s=4, label=\"Predictions\")\n",
        "\n",
        "  # legend\n",
        "  plt.legend(prop={\"size\": 14})\n"
      ],
      "metadata": {
        "id": "N8PGonJ6TJBr"
      },
      "execution_count": 20,
      "outputs": []
    },
    {
      "cell_type": "code",
      "source": [
        "plot_pred()"
      ],
      "metadata": {
        "colab": {
          "base_uri": "https://localhost:8080/",
          "height": 599
        },
        "id": "jZMxBYhnVddH",
        "outputId": "b8422386-620e-487a-ae0c-1867ceaee2a2"
      },
      "execution_count": 21,
      "outputs": [
        {
          "output_type": "display_data",
          "data": {
            "text/plain": [
              "<Figure size 1000x700 with 1 Axes>"
            ],
            "image/png": "[encoded data removed]"
          },
          "metadata": {}
        }
      ]
    },
    {
      "cell_type": "markdown",
      "source": [
        "# Build model"
      ],
      "metadata": {
        "id": "tVVPPM9v-qRn"
      }
    },
    {
      "cell_type": "code",
      "source": [
        "from torch import nn\n",
        "\n",
        "## nn.Module:\n",
        "  # almost everything in pytorch inherits nn.module\n",
        "  # subclasses nn.Module which contains all the building blocks for neural networks\n",
        "## 1: start with a random weight\n",
        "## requires_grad=True: can this parameter be updated via gradient descent?\n",
        "## dtype=torch.float: pytorch loves torch.float32\n",
        "class LinearRegressionModel(nn.Module):\n",
        "  def __init__(self):\n",
        "    super().__init__()\n",
        "\n",
        "    ## Initialize model parameters\n",
        "    self.weights = nn.Parameter(torch.randn(1, requires_grad=True, dtype=torch.float)) # default: float32\n",
        "\n",
        "    self.bias = nn.Parameter(torch.randn(1, requires_grad=True, dtype=torch.float))\n",
        "\n",
        "  # Forward\n",
        "  def forward(self, x: torch.Tensor) -> torch.Tensor: # x is the input data (tensor)\n",
        "    return self.weights * x + self.bias"
      ],
      "metadata": {
        "id": "mafAyf-YViCE"
      },
      "execution_count": null,
      "outputs": []
    },
    {
      "cell_type": "markdown",
      "source": [
        "# pytorch model building essentials\n",
        "\n",
        "* torch.nn - contains all the buildings for computational graphs i.e., a neural network\n",
        "* torch.nn.Parameter - what parameters should our model try and learn, often a pytorch layer from torch.nn will set these for us\n",
        "* torch.nn.Module - The base class for all neural network modules, if you subclass it, you should override forward()\n",
        "* torch.optim - this is where optimizers in pytorch lives which helps with gradient descent i.e., instead of random initialization\n",
        "* def forward() - all nn.Module subclasses require you to override"
      ],
      "metadata": {
        "id": "pIGZVjOID9yf"
      }
    },
    {
      "cell_type": "code",
      "source": [
        "torch.randn(1)"
      ],
      "metadata": {
        "id": "oIDvagdrG9_o"
      },
      "execution_count": null,
      "outputs": []
    },
    {
      "cell_type": "code",
      "source": [
        "torch.manual_seed(42)\n",
        "\n",
        "lin_reg = LinearRegressionModel()\n",
        "list(lin_reg.parameters())"
      ],
      "metadata": {
        "id": "ytKZMsNzEALN"
      },
      "execution_count": null,
      "outputs": []
    },
    {
      "cell_type": "code",
      "source": [
        "# list named parameters\n",
        "lin_reg.state_dict()"
      ],
      "metadata": {
        "id": "09TqXOaHGuXM"
      },
      "execution_count": null,
      "outputs": []
    },
    {
      "cell_type": "markdown",
      "source": [
        "## Predict using `torch.inference_mode()`"
      ],
      "metadata": {
        "id": "ZWeTnSygipLe"
      }
    },
    {
      "cell_type": "code",
      "source": [
        "X_test"
      ],
      "metadata": {
        "id": "aHHR-5GCi4Lk"
      },
      "execution_count": null,
      "outputs": []
    },
    {
      "cell_type": "code",
      "source": [
        "y_test"
      ],
      "metadata": {
        "id": "oXRFYDRni8fi"
      },
      "execution_count": null,
      "outputs": []
    },
    {
      "cell_type": "code",
      "source": [
        "## * CRUCIAL CONCEPT & TIP: Benefits of using a context manager\n",
        "# Turns off/disables gradient => because we're only doing inference, we don't need to track gradient\n",
        "# This context manager becomes useful when we have a much larger dataset\n",
        "# The prediction will be much faster than w/o using a context manager as it disables unnecessary steps used for training\n",
        "# lin_reg(X_test) leaves the gradient\n",
        "with torch.inference_mode():\n",
        "  y_preds = lin_reg(X_test)\n",
        "\n",
        "# or\n",
        "# ctrl + /\n",
        "# with torch.no_grad():\n",
        "#   y_preds = lin_reg(X_test)\n",
        "\n",
        "y_preds"
      ],
      "metadata": {
        "colab": {
          "base_uri": "https://localhost:8080/"
        },
        "id": "SC67PfT3Hryo",
        "outputId": "cdbcbe95-a3bc-4632-f239-2b3c25d39e2c"
      },
      "execution_count": 27,
      "outputs": [
        {
          "output_type": "execute_result",
          "data": {
            "text/plain": [
              "tensor([[0.3982],\n",
              "        [0.4049],\n",
              "        [0.4116],\n",
              "        [0.4184],\n",
              "        [0.4251],\n",
              "        [0.4318],\n",
              "        [0.4386],\n",
              "        [0.4453],\n",
              "        [0.4520],\n",
              "        [0.4588]])"
            ]
          },
          "metadata": {},
          "execution_count": 27
        }
      ]
    },
    {
      "cell_type": "code",
      "source": [
        "plot_pred(pred=y_preds)"
      ],
      "metadata": {
        "colab": {
          "base_uri": "https://localhost:8080/",
          "height": 599
        },
        "id": "DU5Yg-vDjiHw",
        "outputId": "c58c4511-51d2-453d-a8c5-2e62489c2e62"
      },
      "execution_count": 28,
      "outputs": [
        {
          "output_type": "display_data",
          "data": {
            "text/plain": [
              "<Figure size 1000x700 with 1 Axes>"
            ],
            "image/png": "[encoded data removed]"
          },
          "metadata": {}
        }
      ]
    },
    {
      "cell_type": "code",
      "source": [],
      "metadata": {
        "id": "NjnstjKdkH1o"
      },
      "execution_count": null,
      "outputs": []
    }
  ]
}