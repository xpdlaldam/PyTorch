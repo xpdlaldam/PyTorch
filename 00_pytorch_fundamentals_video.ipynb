{
  "nbformat": 4,
  "nbformat_minor": 0,
  "metadata": {
    "colab": {
      "provenance": [],
      "gpuType": "T4",
      "authorship_tag": "ABX9TyPe2zjqOJJOPgW/TbMifZZj",
      "include_colab_link": true
    },
    "kernelspec": {
      "name": "python3",
      "display_name": "Python 3"
    },
    "language_info": {
      "name": "python"
    },
    "accelerator": "GPU"
  },
  "cells": [
    {
      "cell_type": "markdown",
      "metadata": {
        "id": "view-in-github",
        "colab_type": "text"
      },
      "source": [
        "<a href=\"https://colab.research.google.com/github/xpdlaldam/PyTorch/blob/main/00_pytorch_fundamentals_video.ipynb\" target=\"_parent\"><img src=\"https://colab.research.google.com/assets/colab-badge.svg\" alt=\"Open In Colab\"/></a>"
      ]
    },
    {
      "cell_type": "code",
      "execution_count": null,
      "metadata": {
        "colab": {
          "base_uri": "https://localhost:8080/"
        },
        "id": "Xj5x_R0MLhaD",
        "outputId": "5a856d33-4333-48b3-9bf9-de3e663c0d83"
      },
      "outputs": [
        {
          "output_type": "stream",
          "name": "stdout",
          "text": [
            "hi2\n"
          ]
        }
      ],
      "source": [
        "print(\"hi2\")"
      ]
    },
    {
      "cell_type": "code",
      "source": [
        "!nvidia-smi"
      ],
      "metadata": {
        "colab": {
          "base_uri": "https://localhost:8080/"
        },
        "id": "TyB6TZXdL5-q",
        "outputId": "a232d4bc-218b-4793-d9bb-c9a2bf3894e6"
      },
      "execution_count": null,
      "outputs": [
        {
          "output_type": "stream",
          "name": "stdout",
          "text": [
            "/bin/bash: line 1: nvidia-smi: command not found\n"
          ]
        }
      ]
    },
    {
      "cell_type": "code",
      "source": [
        "import torch\n",
        "print(torch.__version__)"
      ],
      "metadata": {
        "colab": {
          "base_uri": "https://localhost:8080/"
        },
        "id": "yOVMI3aRMcUo",
        "outputId": "314db343-ca90-43af-b9ce-c4e7be666bca"
      },
      "execution_count": null,
      "outputs": [
        {
          "output_type": "stream",
          "name": "stdout",
          "text": [
            "2.1.0+cu121\n"
          ]
        }
      ]
    },
    {
      "cell_type": "markdown",
      "source": [
        "# Intro to Tensors"
      ],
      "metadata": {
        "id": "U3-JBK_KcFiw"
      }
    },
    {
      "cell_type": "markdown",
      "source": [
        "## Creating tensors"
      ],
      "metadata": {
        "id": "MvbVvMrUcRj6"
      }
    },
    {
      "cell_type": "code",
      "source": [
        "# Scalar\n",
        "scalar = torch.tensor(7)\n",
        "scalar"
      ],
      "metadata": {
        "id": "PkvmeV7QNW_X",
        "colab": {
          "base_uri": "https://localhost:8080/"
        },
        "outputId": "a9655061-d687-4072-ff55-cbcf85e39d81"
      },
      "execution_count": null,
      "outputs": [
        {
          "output_type": "execute_result",
          "data": {
            "text/plain": [
              "tensor(7)"
            ]
          },
          "metadata": {},
          "execution_count": 4
        }
      ]
    },
    {
      "cell_type": "code",
      "source": [
        "scalar.ndim"
      ],
      "metadata": {
        "colab": {
          "base_uri": "https://localhost:8080/"
        },
        "id": "RhYPz4Pagk6j",
        "outputId": "71a51ab0-edad-40c3-9c71-8bb13a9802af"
      },
      "execution_count": null,
      "outputs": [
        {
          "output_type": "execute_result",
          "data": {
            "text/plain": [
              "0"
            ]
          },
          "metadata": {},
          "execution_count": 5
        }
      ]
    },
    {
      "cell_type": "code",
      "source": [
        "# Get tensor back as python int\n",
        "scalar.item()"
      ],
      "metadata": {
        "colab": {
          "base_uri": "https://localhost:8080/"
        },
        "id": "6Ucbnqh1hHMW",
        "outputId": "1bea569c-0a8a-4d42-cad7-eecf06df2df9"
      },
      "execution_count": null,
      "outputs": [
        {
          "output_type": "execute_result",
          "data": {
            "text/plain": [
              "7"
            ]
          },
          "metadata": {},
          "execution_count": 6
        }
      ]
    },
    {
      "cell_type": "code",
      "source": [
        "# Vector\n",
        "vector = torch.tensor([7, 7])\n",
        "vector"
      ],
      "metadata": {
        "colab": {
          "base_uri": "https://localhost:8080/"
        },
        "id": "FCx4S923iDBV",
        "outputId": "45490dc1-6696-401f-f103-7a6b6750658f"
      },
      "execution_count": null,
      "outputs": [
        {
          "output_type": "execute_result",
          "data": {
            "text/plain": [
              "tensor([7, 7])"
            ]
          },
          "metadata": {},
          "execution_count": 7
        }
      ]
    },
    {
      "cell_type": "code",
      "source": [
        "vector.ndim"
      ],
      "metadata": {
        "colab": {
          "base_uri": "https://localhost:8080/"
        },
        "id": "jXF_XvpziW9v",
        "outputId": "1e21ad5e-25d9-4b79-f3d8-c1803a9dd3e1"
      },
      "execution_count": null,
      "outputs": [
        {
          "output_type": "execute_result",
          "data": {
            "text/plain": [
              "1"
            ]
          },
          "metadata": {},
          "execution_count": 8
        }
      ]
    },
    {
      "cell_type": "code",
      "source": [
        "vector.shape"
      ],
      "metadata": {
        "colab": {
          "base_uri": "https://localhost:8080/"
        },
        "id": "dFpp0GoriYbv",
        "outputId": "d3bdca79-1506-4408-86f7-ef05c6ab7644"
      },
      "execution_count": null,
      "outputs": [
        {
          "output_type": "execute_result",
          "data": {
            "text/plain": [
              "torch.Size([2])"
            ]
          },
          "metadata": {},
          "execution_count": 9
        }
      ]
    },
    {
      "cell_type": "code",
      "source": [
        "# Matrix\n",
        "MATRIX = torch.tensor([[1, 2],\n",
        "                       [3, 4]])\n",
        "MATRIX"
      ],
      "metadata": {
        "colab": {
          "base_uri": "https://localhost:8080/"
        },
        "id": "ZfGvTMSCie1L",
        "outputId": "fc161527-bc8f-4bef-e6db-ae994f317053"
      },
      "execution_count": null,
      "outputs": [
        {
          "output_type": "execute_result",
          "data": {
            "text/plain": [
              "tensor([[1, 2],\n",
              "        [3, 4]])"
            ]
          },
          "metadata": {},
          "execution_count": 10
        }
      ]
    },
    {
      "cell_type": "code",
      "source": [
        "# TENSOR\n",
        "TENSOR = torch.tensor([[[1, 2, 3],\n",
        "                        [2, 3, 4],\n",
        "                        [2, 3, 7],\n",
        "                        ]])"
      ],
      "metadata": {
        "id": "6I11gdaHjG3K"
      },
      "execution_count": null,
      "outputs": []
    },
    {
      "cell_type": "markdown",
      "source": [
        "## Random tensors"
      ],
      "metadata": {
        "id": "y3XKGvrPe2zB"
      }
    },
    {
      "cell_type": "code",
      "source": [
        "random_tensor = torch.rand(3, 4)\n",
        "random_tensor"
      ],
      "metadata": {
        "colab": {
          "base_uri": "https://localhost:8080/"
        },
        "id": "EdzZkIx5e9H6",
        "outputId": "e7358953-44ce-40e3-9ddb-7d13153633fc"
      },
      "execution_count": null,
      "outputs": [
        {
          "output_type": "execute_result",
          "data": {
            "text/plain": [
              "tensor([[0.7441, 0.0244, 0.4048, 0.6732],\n",
              "        [0.5977, 0.0854, 0.5637, 0.1906],\n",
              "        [0.7489, 0.8159, 0.8341, 0.9082]])"
            ]
          },
          "metadata": {},
          "execution_count": 12
        }
      ]
    },
    {
      "cell_type": "code",
      "source": [
        "random_tensor.dtype"
      ],
      "metadata": {
        "colab": {
          "base_uri": "https://localhost:8080/"
        },
        "id": "FDGuQqnufZjY",
        "outputId": "f4bce964-5ee1-449d-c511-2ff743763004"
      },
      "execution_count": null,
      "outputs": [
        {
          "output_type": "execute_result",
          "data": {
            "text/plain": [
              "torch.float32"
            ]
          },
          "metadata": {},
          "execution_count": 13
        }
      ]
    },
    {
      "cell_type": "code",
      "source": [
        "one_to_ten = torch.arange(start = 1, end = 11, step=1)"
      ],
      "metadata": {
        "id": "TbfLGVXThCrI"
      },
      "execution_count": null,
      "outputs": []
    },
    {
      "cell_type": "code",
      "source": [
        "# Create tensors like: make a same shape tensor with 0's from a different tensor\n",
        "ten_zeroes = torch.zeros_like(one_to_ten)\n",
        "ten_zeroes"
      ],
      "metadata": {
        "colab": {
          "base_uri": "https://localhost:8080/"
        },
        "id": "wyOXNyh6hgPQ",
        "outputId": "6eaf6f50-875b-4f1f-b80d-cec2d3c883c9"
      },
      "execution_count": null,
      "outputs": [
        {
          "output_type": "execute_result",
          "data": {
            "text/plain": [
              "tensor([0, 0, 0, 0, 0, 0, 0, 0, 0, 0])"
            ]
          },
          "metadata": {},
          "execution_count": 15
        }
      ]
    },
    {
      "cell_type": "code",
      "source": [],
      "metadata": {
        "id": "SE7UqFDkiUVA"
      },
      "execution_count": null,
      "outputs": []
    },
    {
      "cell_type": "markdown",
      "source": [
        "## Tensor datatypes"
      ],
      "metadata": {
        "id": "iEj0x_tjjVQ-"
      }
    },
    {
      "cell_type": "code",
      "source": [
        "float_32_tensor = torch.tensor(\n",
        "    [3.0, 6.0, 9.0],\n",
        "    dtype=None,\n",
        "    device=None, # what device is your tensor on \"cpu\", \"cuda\"\n",
        "    requires_grad=False # whether or not to track gradients with these tensor operations\n",
        ")"
      ],
      "metadata": {
        "id": "jALYFe8BjXok"
      },
      "execution_count": null,
      "outputs": []
    },
    {
      "cell_type": "code",
      "source": [
        "# .type() convert/change float dtype from float32 to float16 using\n",
        "float_16_tensor = float_32_tensor.type(torch.float16)"
      ],
      "metadata": {
        "id": "dOG_wR32ouA0"
      },
      "execution_count": null,
      "outputs": []
    },
    {
      "cell_type": "markdown",
      "source": [
        "## Getting Tensor Attributes\n",
        "\n"
      ],
      "metadata": {
        "id": "jMt2u1fqu5do"
      }
    },
    {
      "cell_type": "code",
      "source": [
        "## Three most important/common issue info from a tensor\n",
        "some_tensor = torch.rand(3, 4)\n",
        "some_tensor\n",
        "print(some_tensor.dtype)\n",
        "print(some_tensor.shape)\n",
        "print(some_tensor.device)"
      ],
      "metadata": {
        "colab": {
          "base_uri": "https://localhost:8080/"
        },
        "id": "GJ2Zy4h6tzbx",
        "outputId": "7ce2f3ca-bd41-450f-aba0-fc59e59860e8"
      },
      "execution_count": null,
      "outputs": [
        {
          "output_type": "stream",
          "name": "stdout",
          "text": [
            "torch.float32\n",
            "torch.Size([3, 4])\n",
            "cpu\n"
          ]
        }
      ]
    },
    {
      "cell_type": "markdown",
      "source": [
        "## Matrix Multiplication using matmul and mm"
      ],
      "metadata": {
        "id": "Y-96CaLT10_B"
      }
    },
    {
      "cell_type": "code",
      "source": [
        "%%time\n",
        "tensor1 = torch.tensor([1, 2, 3])\n",
        "torch.matmul(tensor1, tensor1)"
      ],
      "metadata": {
        "id": "CM3tmS_suBDo",
        "colab": {
          "base_uri": "https://localhost:8080/"
        },
        "outputId": "57034084-8bae-4c6b-99da-25e3f2289b73"
      },
      "execution_count": null,
      "outputs": [
        {
          "output_type": "stream",
          "name": "stdout",
          "text": [
            "CPU times: user 401 µs, sys: 136 µs, total: 537 µs\n",
            "Wall time: 6.82 ms\n"
          ]
        },
        {
          "output_type": "execute_result",
          "data": {
            "text/plain": [
              "tensor(14)"
            ]
          },
          "metadata": {},
          "execution_count": 19
        }
      ]
    },
    {
      "cell_type": "code",
      "source": [
        "tensor1 = torch.tensor([\n",
        "    [1, 2],\n",
        "    [2, 3],\n",
        "    [3, 4],\n",
        "])\n",
        "tensor1.shape\n",
        "\n",
        "tensor2 = torch.tensor([\n",
        "    [2, 3],\n",
        "    [3, 4],\n",
        "])\n",
        "\n",
        "# mm only works for >= 2 shape matrices\n",
        "torch.mm(tensor1, tensor2)"
      ],
      "metadata": {
        "colab": {
          "base_uri": "https://localhost:8080/"
        },
        "id": "I3U4sc_76adI",
        "outputId": "e286d75e-02ed-4ec6-b9e9-27be8b4c734c"
      },
      "execution_count": null,
      "outputs": [
        {
          "output_type": "execute_result",
          "data": {
            "text/plain": [
              "tensor([[ 8, 11],\n",
              "        [13, 18],\n",
              "        [18, 25]])"
            ]
          },
          "metadata": {},
          "execution_count": 20
        }
      ]
    },
    {
      "cell_type": "markdown",
      "source": [
        "## Transpose a matrix"
      ],
      "metadata": {
        "id": "hoJEjpX13_2Z"
      }
    },
    {
      "cell_type": "code",
      "source": [
        "tensor1.T"
      ],
      "metadata": {
        "colab": {
          "base_uri": "https://localhost:8080/"
        },
        "id": "kN7iyhZH2haX",
        "outputId": "a9582b86-523c-4a8b-cb44-43590a42d066"
      },
      "execution_count": null,
      "outputs": [
        {
          "output_type": "execute_result",
          "data": {
            "text/plain": [
              "tensor([[1, 2, 3],\n",
              "        [2, 3, 4]])"
            ]
          },
          "metadata": {},
          "execution_count": 21
        }
      ]
    },
    {
      "cell_type": "markdown",
      "source": [
        "## Tensor aggregation"
      ],
      "metadata": {
        "id": "XLPzt2sZfQ8R"
      }
    },
    {
      "cell_type": "code",
      "source": [
        "x = torch.arange(0, 100, 10) + 1\n",
        "x\n"
      ],
      "metadata": {
        "colab": {
          "base_uri": "https://localhost:8080/"
        },
        "id": "G-dz0TtQ96oX",
        "outputId": "f03dd42e-eb2d-434e-87c0-cd559c6dcc7c"
      },
      "execution_count": null,
      "outputs": [
        {
          "output_type": "execute_result",
          "data": {
            "text/plain": [
              "tensor([ 1, 11, 21, 31, 41, 51, 61, 71, 81, 91])"
            ]
          },
          "metadata": {},
          "execution_count": 22
        }
      ]
    },
    {
      "cell_type": "code",
      "source": [
        "x.min(), x.max()"
      ],
      "metadata": {
        "colab": {
          "base_uri": "https://localhost:8080/"
        },
        "id": "3glv_As8ff1O",
        "outputId": "8e6e7921-4ffb-4d11-f752-7580ba149bd3"
      },
      "execution_count": null,
      "outputs": [
        {
          "output_type": "execute_result",
          "data": {
            "text/plain": [
              "(tensor(1), tensor(91))"
            ]
          },
          "metadata": {},
          "execution_count": 23
        }
      ]
    },
    {
      "cell_type": "code",
      "source": [
        "x.mean()"
      ],
      "metadata": {
        "colab": {
          "base_uri": "https://localhost:8080/",
          "height": 175
        },
        "id": "4HCeNfQugLBO",
        "outputId": "c775424c-e051-4d78-82d2-f888d1be44fc"
      },
      "execution_count": null,
      "outputs": [
        {
          "output_type": "error",
          "ename": "RuntimeError",
          "evalue": "ignored",
          "traceback": [
            "\u001b[0;31m---------------------------------------------------------------------------\u001b[0m",
            "\u001b[0;31mRuntimeError\u001b[0m                              Traceback (most recent call last)",
            "\u001b[0;32m<ipython-input-25-6f9184126d05>\u001b[0m in \u001b[0;36m<cell line: 1>\u001b[0;34m()\u001b[0m\n\u001b[0;32m----> 1\u001b[0;31m \u001b[0mx\u001b[0m\u001b[0;34m.\u001b[0m\u001b[0mmean\u001b[0m\u001b[0;34m(\u001b[0m\u001b[0;34m)\u001b[0m\u001b[0;34m\u001b[0m\u001b[0;34m\u001b[0m\u001b[0m\n\u001b[0m",
            "\u001b[0;31mRuntimeError\u001b[0m: mean(): could not infer output dtype. Input dtype must be either a floating point or complex dtype. Got: Long"
          ]
        }
      ]
    },
    {
      "cell_type": "code",
      "source": [
        "x.dtype # int64 is Long dtype"
      ],
      "metadata": {
        "colab": {
          "base_uri": "https://localhost:8080/"
        },
        "id": "ftoBd2cwfoxn",
        "outputId": "7c1f361f-345f-49fa-b816-3d567fc0c0e3"
      },
      "execution_count": null,
      "outputs": [
        {
          "output_type": "execute_result",
          "data": {
            "text/plain": [
              "torch.float32"
            ]
          },
          "metadata": {},
          "execution_count": 38
        }
      ]
    },
    {
      "cell_type": "code",
      "source": [
        "torch.mean(x.type(torch.float32)), x.type(torch.float32).mean()"
      ],
      "metadata": {
        "colab": {
          "base_uri": "https://localhost:8080/"
        },
        "id": "AtDNU79yf0To",
        "outputId": "d174dcac-6b37-4828-fc58-eed90b6eee35"
      },
      "execution_count": null,
      "outputs": [
        {
          "output_type": "execute_result",
          "data": {
            "text/plain": [
              "(tensor(15.8889), tensor(15.8889))"
            ]
          },
          "metadata": {},
          "execution_count": 39
        }
      ]
    },
    {
      "cell_type": "code",
      "source": [
        "x.sum()"
      ],
      "metadata": {
        "colab": {
          "base_uri": "https://localhost:8080/"
        },
        "id": "GS9pvqshglXj",
        "outputId": "8f0cd84b-c70c-4f1c-e25f-7785322efccd"
      },
      "execution_count": null,
      "outputs": [
        {
          "output_type": "execute_result",
          "data": {
            "text/plain": [
              "tensor(143.)"
            ]
          },
          "metadata": {},
          "execution_count": 40
        }
      ]
    },
    {
      "cell_type": "markdown",
      "source": [
        "## Find positional min and max"
      ],
      "metadata": {
        "id": "3w1Zn5Vlhlq6"
      }
    },
    {
      "cell_type": "code",
      "source": [
        "x.argmin(), x.argmax()"
      ],
      "metadata": {
        "colab": {
          "base_uri": "https://localhost:8080/"
        },
        "id": "PVjqD-pEhKHC",
        "outputId": "bdcceee1-ecb8-4d63-b8e3-040731d92cd3"
      },
      "execution_count": null,
      "outputs": [
        {
          "output_type": "execute_result",
          "data": {
            "text/plain": [
              "(tensor(1), tensor(0))"
            ]
          },
          "metadata": {},
          "execution_count": 41
        }
      ]
    },
    {
      "cell_type": "markdown",
      "source": [
        "## Reshaping, stacking, squeezing, unsqueezing tensors\n",
        "\n",
        "* torch.reshape(input, shape):\tReshapes input to shape (if compatible), can also use torch.Tensor.reshape()\n",
        "\n",
        "* Tensor.view(shape): Returns a view of the original tensor in a different shape but shares the same data as the original tensor\n",
        "\n",
        "* torch.stack(tensors, dim=0): Concatenates a sequence of tensors along a new dimension (dim), all tensors must be same size\n",
        "\n",
        "* torch.squeeze(input):\tSqueezes input to remove all the `1-Ds`\n",
        "\n",
        "* torch.unsqueeze(input, dim):\tReturns input with `a dimension value of 1 added at dim`\n",
        "\n",
        "* torch.permute(input, dims):\tReturns a view of the original input with its dimensions permuted (rearranged) to dims"
      ],
      "metadata": {
        "id": "1-W6cReKx6Qn"
      }
    },
    {
      "cell_type": "code",
      "source": [
        "import torch\n",
        "x = torch.arange(1., 10.)\n",
        "x, x.shape"
      ],
      "metadata": {
        "colab": {
          "base_uri": "https://localhost:8080/"
        },
        "id": "VoGG9KPLhrQY",
        "outputId": "96d43bb1-fd02-4b21-a43c-9097a65c18a3"
      },
      "execution_count": 1,
      "outputs": [
        {
          "output_type": "execute_result",
          "data": {
            "text/plain": [
              "(tensor([1., 2., 3., 4., 5., 6., 7., 8., 9.]), torch.Size([9]))"
            ]
          },
          "metadata": {},
          "execution_count": 1
        }
      ]
    },
    {
      "cell_type": "markdown",
      "source": [
        "### reshape"
      ],
      "metadata": {
        "id": "6r5-7HXB_Dot"
      }
    },
    {
      "cell_type": "code",
      "source": [
        "## Add an extra D\n",
        "# must match with original number of tensors\n",
        "x_reshaped = x.reshape(1, 9) # 1 * 9 = 9\n",
        "x_reshaped2 = x.reshape(3, 3) # 3 * 3 = 9\n",
        "x_reshaped, x_reshaped.shape"
      ],
      "metadata": {
        "colab": {
          "base_uri": "https://localhost:8080/"
        },
        "id": "qe1UXdBv0jKI",
        "outputId": "1188e11e-067c-4dd7-d564-66b2694eb35f"
      },
      "execution_count": null,
      "outputs": [
        {
          "output_type": "execute_result",
          "data": {
            "text/plain": [
              "(tensor([[1., 2., 3., 4., 5., 6., 7., 8., 9.]]), torch.Size([1, 9]))"
            ]
          },
          "metadata": {},
          "execution_count": 43
        }
      ]
    },
    {
      "cell_type": "markdown",
      "source": [
        "### view"
      ],
      "metadata": {
        "id": "SspaFabp_Hdd"
      }
    },
    {
      "cell_type": "code",
      "source": [
        "### view\n",
        "## Change the view\n",
        "# a view of a tensor shares the same memory as the original tensor\n",
        "# hence if we change an element from a view, so will the x\n",
        "z = x.view(1, 9)\n",
        "z, z.shape"
      ],
      "metadata": {
        "colab": {
          "base_uri": "https://localhost:8080/"
        },
        "id": "sgfHwNsp08k5",
        "outputId": "32c372f1-5383-4edf-b3b5-7e88f1ab72f8"
      },
      "execution_count": null,
      "outputs": [
        {
          "output_type": "execute_result",
          "data": {
            "text/plain": [
              "(tensor([[1., 2., 3., 4., 5., 6., 7., 8., 9.]]), torch.Size([1, 9]))"
            ]
          },
          "metadata": {},
          "execution_count": 44
        }
      ]
    },
    {
      "cell_type": "code",
      "source": [
        "z[0, 0] = 99\n",
        "z"
      ],
      "metadata": {
        "colab": {
          "base_uri": "https://localhost:8080/"
        },
        "id": "_Qcb2qb71tgo",
        "outputId": "e5885897-665f-406c-8c48-3b9bf1d130f8"
      },
      "execution_count": null,
      "outputs": [
        {
          "output_type": "execute_result",
          "data": {
            "text/plain": [
              "tensor([[99.,  2.,  3.,  4.,  5.,  6.,  7.,  8.,  9.]])"
            ]
          },
          "metadata": {},
          "execution_count": 45
        }
      ]
    },
    {
      "cell_type": "code",
      "source": [
        "x"
      ],
      "metadata": {
        "colab": {
          "base_uri": "https://localhost:8080/"
        },
        "id": "Tkmsyr1-2HUg",
        "outputId": "13a69804-edc7-4094-e058-4b0d6da194e0"
      },
      "execution_count": null,
      "outputs": [
        {
          "output_type": "execute_result",
          "data": {
            "text/plain": [
              "tensor([99.,  2.,  3.,  4.,  5.,  6.,  7.,  8.,  9.])"
            ]
          },
          "metadata": {},
          "execution_count": 46
        }
      ]
    },
    {
      "cell_type": "markdown",
      "source": [
        "### stack"
      ],
      "metadata": {
        "id": "J-5r2vcE_MDs"
      }
    },
    {
      "cell_type": "code",
      "source": [
        "### stack\n",
        "## Stack tensors on top of each other\n",
        "torch.stack([x, x], dim=0) # vertical"
      ],
      "metadata": {
        "colab": {
          "base_uri": "https://localhost:8080/"
        },
        "id": "NMx30PMy2Jaz",
        "outputId": "a0e5ff50-0232-40db-d621-63f9b5f89e58"
      },
      "execution_count": null,
      "outputs": [
        {
          "output_type": "execute_result",
          "data": {
            "text/plain": [
              "tensor([[99.,  2.,  3.,  4.,  5.,  6.,  7.,  8.,  9.],\n",
              "        [99.,  2.,  3.,  4.,  5.,  6.,  7.,  8.,  9.]])"
            ]
          },
          "metadata": {},
          "execution_count": 47
        }
      ]
    },
    {
      "cell_type": "code",
      "source": [
        "torch.stack([x, x], dim=1) # horizontal"
      ],
      "metadata": {
        "colab": {
          "base_uri": "https://localhost:8080/"
        },
        "id": "mBKx__E-2kkO",
        "outputId": "3e233218-9e87-4b95-e59e-c3f9b07d1cce"
      },
      "execution_count": null,
      "outputs": [
        {
          "output_type": "execute_result",
          "data": {
            "text/plain": [
              "tensor([[99., 99.],\n",
              "        [ 2.,  2.],\n",
              "        [ 3.,  3.],\n",
              "        [ 4.,  4.],\n",
              "        [ 5.,  5.],\n",
              "        [ 6.,  6.],\n",
              "        [ 7.,  7.],\n",
              "        [ 8.,  8.],\n",
              "        [ 9.,  9.]])"
            ]
          },
          "metadata": {},
          "execution_count": 48
        }
      ]
    },
    {
      "cell_type": "markdown",
      "source": [
        "### squeeze"
      ],
      "metadata": {
        "id": "uwek0pxG_OoW"
      }
    },
    {
      "cell_type": "code",
      "source": [
        "### squeeze\n",
        "x_reshaped.shape"
      ],
      "metadata": {
        "colab": {
          "base_uri": "https://localhost:8080/"
        },
        "id": "nhQEEEPf2oqu",
        "outputId": "11426e99-ef3d-45ad-af13-c9a82c1ed2bc"
      },
      "execution_count": null,
      "outputs": [
        {
          "output_type": "execute_result",
          "data": {
            "text/plain": [
              "torch.Size([1, 9])"
            ]
          },
          "metadata": {},
          "execution_count": 50
        }
      ]
    },
    {
      "cell_type": "code",
      "source": [
        "x_reshaped"
      ],
      "metadata": {
        "colab": {
          "base_uri": "https://localhost:8080/"
        },
        "id": "xTn6CX9I8w9S",
        "outputId": "7e9cfcaf-08e2-4535-ed85-0d7c3d9f2edf"
      },
      "execution_count": null,
      "outputs": [
        {
          "output_type": "execute_result",
          "data": {
            "text/plain": [
              "tensor([[99.,  2.,  3.,  4.,  5.,  6.,  7.,  8.,  9.]])"
            ]
          },
          "metadata": {},
          "execution_count": 52
        }
      ]
    },
    {
      "cell_type": "code",
      "source": [
        "x_squeezed = x_reshaped.squeeze()\n",
        "x_squeezed"
      ],
      "metadata": {
        "colab": {
          "base_uri": "https://localhost:8080/"
        },
        "id": "zSB71Hev8gAs",
        "outputId": "c95920d8-25ad-4fe2-af07-49256fe8d05d"
      },
      "execution_count": null,
      "outputs": [
        {
          "output_type": "execute_result",
          "data": {
            "text/plain": [
              "tensor([99.,  2.,  3.,  4.,  5.,  6.,  7.,  8.,  9.])"
            ]
          },
          "metadata": {},
          "execution_count": 55
        }
      ]
    },
    {
      "cell_type": "code",
      "source": [
        "x_squeezed.shape # shape reduced from [1, 9] to [9]"
      ],
      "metadata": {
        "colab": {
          "base_uri": "https://localhost:8080/"
        },
        "id": "u3rvAcHN8n1G",
        "outputId": "7214d250-2957-40b2-dd07-5502cbf18c78"
      },
      "execution_count": null,
      "outputs": [
        {
          "output_type": "execute_result",
          "data": {
            "text/plain": [
              "torch.Size([9])"
            ]
          },
          "metadata": {},
          "execution_count": 56
        }
      ]
    },
    {
      "cell_type": "markdown",
      "source": [
        "### unsqueeze"
      ],
      "metadata": {
        "id": "HLWKakS8_coq"
      }
    },
    {
      "cell_type": "code",
      "source": [
        "x_squeezed.shape"
      ],
      "metadata": {
        "colab": {
          "base_uri": "https://localhost:8080/"
        },
        "id": "NLUjQNCPA6oo",
        "outputId": "1a06637e-d9f3-4a5f-9f50-726c9229a6ab"
      },
      "execution_count": null,
      "outputs": [
        {
          "output_type": "execute_result",
          "data": {
            "text/plain": [
              "torch.Size([9])"
            ]
          },
          "metadata": {},
          "execution_count": 59
        }
      ]
    },
    {
      "cell_type": "code",
      "source": [
        "# x_reshaped.shape is [1, 9]. The first dimension (dim=0) is 1 and the second dimension (dim=1) is 9\n",
        "# hence if we apply this logic to x_squeezed which has shape [9]:\n",
        "# unsqueeze(dim=0) is adding 1-D to the 1st dimension\n",
        "x_unsqueezed = x_squeezed.unsqueeze(dim=0)\n",
        "x_unsqueezed.shape"
      ],
      "metadata": {
        "colab": {
          "base_uri": "https://localhost:8080/"
        },
        "id": "-QylQktJ90w4",
        "outputId": "6be37711-ad4c-48cc-ae02-69e3e1a3c605"
      },
      "execution_count": null,
      "outputs": [
        {
          "output_type": "execute_result",
          "data": {
            "text/plain": [
              "torch.Size([1, 9])"
            ]
          },
          "metadata": {},
          "execution_count": 57
        }
      ]
    },
    {
      "cell_type": "code",
      "source": [
        "# unsqueeze(dim=1) is adding 1-D to the 2nd dimension\n",
        "x_unsqueezed = x_squeezed.unsqueeze(dim=1)\n",
        "x_unsqueezed.shape"
      ],
      "metadata": {
        "colab": {
          "base_uri": "https://localhost:8080/"
        },
        "id": "uv-8MGf__yTQ",
        "outputId": "4d04e27c-bc7f-4a12-c3bd-05dec29f6a9d"
      },
      "execution_count": null,
      "outputs": [
        {
          "output_type": "execute_result",
          "data": {
            "text/plain": [
              "torch.Size([9, 1])"
            ]
          },
          "metadata": {},
          "execution_count": 58
        }
      ]
    },
    {
      "cell_type": "markdown",
      "source": [
        "### permute"
      ],
      "metadata": {
        "id": "2SvuF6qQBSys"
      }
    },
    {
      "cell_type": "markdown",
      "source": [
        "#### permute is a view, hence it shares the same memory with the original unpermuted tensor"
      ],
      "metadata": {
        "id": "6n1mi_9JEpGf"
      }
    },
    {
      "cell_type": "code",
      "source": [
        "x = torch.randn(2, 3, 4) # think of it as: there are two (3 by 4) matrices\n",
        "x"
      ],
      "metadata": {
        "colab": {
          "base_uri": "https://localhost:8080/"
        },
        "id": "9yqtQXYCA178",
        "outputId": "7b3caabf-dc4d-4e97-c1b4-b7e7fda61826"
      },
      "execution_count": null,
      "outputs": [
        {
          "output_type": "execute_result",
          "data": {
            "text/plain": [
              "tensor([[[-0.4982,  0.5359, -2.3079,  0.8697],\n",
              "         [ 0.6982, -0.1267, -2.0988,  0.3419],\n",
              "         [-2.7829, -1.9161,  0.6646, -0.6073]],\n",
              "\n",
              "        [[-1.1977, -0.9480,  1.8712,  0.7288],\n",
              "         [-0.5791, -1.5871, -0.2040, -0.3361],\n",
              "         [ 0.7211,  0.1002, -0.7070, -1.1027]]])"
            ]
          },
          "metadata": {},
          "execution_count": 71
        }
      ]
    },
    {
      "cell_type": "code",
      "source": [
        "x.shape"
      ],
      "metadata": {
        "colab": {
          "base_uri": "https://localhost:8080/"
        },
        "id": "AiDxojn5ChhR",
        "outputId": "35a38f48-2758-4e0b-bc08-d003818d410d"
      },
      "execution_count": null,
      "outputs": [
        {
          "output_type": "execute_result",
          "data": {
            "text/plain": [
              "torch.Size([2, 3, 4])"
            ]
          },
          "metadata": {},
          "execution_count": 72
        }
      ]
    },
    {
      "cell_type": "code",
      "source": [
        "x_permuted = x.permute(2, 0, 1) # dim=2 is first, dim=0 is second, and dim=1 is last"
      ],
      "metadata": {
        "id": "NiHNYtyWBoMv"
      },
      "execution_count": null,
      "outputs": []
    },
    {
      "cell_type": "code",
      "source": [
        "x_permuted"
      ],
      "metadata": {
        "colab": {
          "base_uri": "https://localhost:8080/"
        },
        "id": "O0RvyPomCC8d",
        "outputId": "e35f896b-0876-4ce6-c6bd-897e42d5fd2e"
      },
      "execution_count": null,
      "outputs": [
        {
          "output_type": "execute_result",
          "data": {
            "text/plain": [
              "tensor([[[-0.4982,  0.6982, -2.7829],\n",
              "         [-1.1977, -0.5791,  0.7211]],\n",
              "\n",
              "        [[ 0.5359, -0.1267, -1.9161],\n",
              "         [-0.9480, -1.5871,  0.1002]],\n",
              "\n",
              "        [[-2.3079, -2.0988,  0.6646],\n",
              "         [ 1.8712, -0.2040, -0.7070]],\n",
              "\n",
              "        [[ 0.8697,  0.3419, -0.6073],\n",
              "         [ 0.7288, -0.3361, -1.1027]]])"
            ]
          },
          "metadata": {},
          "execution_count": 77
        }
      ]
    },
    {
      "cell_type": "code",
      "source": [
        "x_permuted.shape # 4 (2 by 3) matrices"
      ],
      "metadata": {
        "colab": {
          "base_uri": "https://localhost:8080/"
        },
        "id": "tnG_YInoCnFa",
        "outputId": "acf12340-4d8a-477d-8bdc-fcf7bc292dd5"
      },
      "execution_count": null,
      "outputs": [
        {
          "output_type": "execute_result",
          "data": {
            "text/plain": [
              "torch.Size([4, 2, 3])"
            ]
          },
          "metadata": {},
          "execution_count": 78
        }
      ]
    },
    {
      "cell_type": "markdown",
      "source": [
        "## **Indexing**"
      ],
      "metadata": {
        "id": "_8k8NAWUFHSN"
      }
    },
    {
      "cell_type": "code",
      "source": [
        "import torch\n",
        "x = torch.arange(1, 10).reshape(1, 3, 3)\n",
        "x, x.shape"
      ],
      "metadata": {
        "colab": {
          "base_uri": "https://localhost:8080/"
        },
        "id": "sKoUqlytCqTP",
        "outputId": "90e85520-c267-487c-8c74-a4a558a0dc53"
      },
      "execution_count": null,
      "outputs": [
        {
          "output_type": "execute_result",
          "data": {
            "text/plain": [
              "(tensor([[[1, 2, 3],\n",
              "          [4, 5, 6],\n",
              "          [7, 8, 9]]]),\n",
              " torch.Size([1, 3, 3]))"
            ]
          },
          "metadata": {},
          "execution_count": 80
        }
      ]
    },
    {
      "cell_type": "code",
      "source": [
        "# grabs the entire dim=0\n",
        "x[0]"
      ],
      "metadata": {
        "colab": {
          "base_uri": "https://localhost:8080/"
        },
        "id": "Bq59Or1DFisg",
        "outputId": "0200aebe-f941-433a-a1ac-337463287941"
      },
      "execution_count": null,
      "outputs": [
        {
          "output_type": "execute_result",
          "data": {
            "text/plain": [
              "tensor([[1, 2, 3],\n",
              "        [4, 5, 6],\n",
              "        [7, 8, 9]])"
            ]
          },
          "metadata": {},
          "execution_count": 81
        }
      ]
    },
    {
      "cell_type": "code",
      "source": [
        "# grabs the first row from dim=1 (3 by 3 matrix)\n",
        "x[0][0], x[0, 0] # these two are identical"
      ],
      "metadata": {
        "colab": {
          "base_uri": "https://localhost:8080/"
        },
        "id": "_f8Q19zdF9Ir",
        "outputId": "2103dc8e-3d9f-4d20-ee82-6e9eb587f249"
      },
      "execution_count": null,
      "outputs": [
        {
          "output_type": "execute_result",
          "data": {
            "text/plain": [
              "(tensor([1, 2, 3]), tensor([1, 2, 3]))"
            ]
          },
          "metadata": {},
          "execution_count": 83
        }
      ]
    },
    {
      "cell_type": "code",
      "source": [
        "# get all values from 0th dim but only grab the 0th row from dim=1\n",
        "x[:, 0]"
      ],
      "metadata": {
        "colab": {
          "base_uri": "https://localhost:8080/"
        },
        "id": "4IYm0TiSGDk9",
        "outputId": "eb99b1fe-a9bd-4408-9c55-4710713abc27"
      },
      "execution_count": null,
      "outputs": [
        {
          "output_type": "execute_result",
          "data": {
            "text/plain": [
              "(tensor([[1, 2, 3]]), tensor([[1, 4, 7]]))"
            ]
          },
          "metadata": {},
          "execution_count": 85
        }
      ]
    },
    {
      "cell_type": "code",
      "source": [
        "# get all values from 0th dim but only grab the second row from dim=1\n",
        "x[:, 2]"
      ],
      "metadata": {
        "colab": {
          "base_uri": "https://localhost:8080/"
        },
        "id": "hFq7Sw9dJhkp",
        "outputId": "5e9afb39-2e60-4a92-e567-ebe9d8dbfdbc"
      },
      "execution_count": null,
      "outputs": [
        {
          "output_type": "execute_result",
          "data": {
            "text/plain": [
              "tensor([[7, 8, 9]])"
            ]
          },
          "metadata": {},
          "execution_count": 88
        }
      ]
    },
    {
      "cell_type": "code",
      "source": [
        "# get all values from 0th and 1st dims\n",
        "x[:, :]"
      ],
      "metadata": {
        "colab": {
          "base_uri": "https://localhost:8080/"
        },
        "id": "2-CJJAl9IxVY",
        "outputId": "be3d656e-7ae6-4d2a-f2d4-34f42da4e258"
      },
      "execution_count": null,
      "outputs": [
        {
          "output_type": "execute_result",
          "data": {
            "text/plain": [
              "tensor([[[1, 2, 3],\n",
              "         [4, 5, 6],\n",
              "         [7, 8, 9]]])"
            ]
          },
          "metadata": {},
          "execution_count": 87
        }
      ]
    },
    {
      "cell_type": "code",
      "source": [
        "# get all values from dim=0 and dim=1 but only grab the first column of dim=2\n",
        "x[:, :, 0]"
      ],
      "metadata": {
        "colab": {
          "base_uri": "https://localhost:8080/"
        },
        "id": "jn7EbpAQH8dP",
        "outputId": "e5248f41-a49a-4bac-bcf7-7ab9bc6c9b0f"
      },
      "execution_count": null,
      "outputs": [
        {
          "output_type": "execute_result",
          "data": {
            "text/plain": [
              "tensor([[1, 4, 7]])"
            ]
          },
          "metadata": {},
          "execution_count": 86
        }
      ]
    },
    {
      "cell_type": "code",
      "source": [
        "# from dim=0, get all values from dim=1\n",
        "x[0, :]"
      ],
      "metadata": {
        "colab": {
          "base_uri": "https://localhost:8080/"
        },
        "id": "JQUPgbOHLJci",
        "outputId": "1c039bea-5eaf-451a-d743-5a41e875afb8"
      },
      "execution_count": null,
      "outputs": [
        {
          "output_type": "execute_result",
          "data": {
            "text/plain": [
              "tensor([[1, 2, 3],\n",
              "        [4, 5, 6],\n",
              "        [7, 8, 9]])"
            ]
          },
          "metadata": {},
          "execution_count": 90
        }
      ]
    },
    {
      "cell_type": "code",
      "source": [
        "# from dim=0, get all values from dim=1, but only grab the first column from dim=2\n",
        "x[0, :, 0]"
      ],
      "metadata": {
        "colab": {
          "base_uri": "https://localhost:8080/"
        },
        "id": "ssNDTQyLKR-z",
        "outputId": "5b71c1a8-0c69-4a08-b059-9ac8efe8401d"
      },
      "execution_count": null,
      "outputs": [
        {
          "output_type": "execute_result",
          "data": {
            "text/plain": [
              "tensor([1, 4, 7])"
            ]
          },
          "metadata": {},
          "execution_count": 89
        }
      ]
    },
    {
      "cell_type": "code",
      "source": [
        "x"
      ],
      "metadata": {
        "colab": {
          "base_uri": "https://localhost:8080/"
        },
        "id": "oeQYor3fMIEQ",
        "outputId": "b6cbba3a-a360-4d52-dbc3-3f39e59b5256"
      },
      "execution_count": null,
      "outputs": [
        {
          "output_type": "execute_result",
          "data": {
            "text/plain": [
              "tensor([[[1, 2, 3],\n",
              "         [4, 5, 6],\n",
              "         [7, 8, 9]]])"
            ]
          },
          "metadata": {},
          "execution_count": 91
        }
      ]
    },
    {
      "cell_type": "code",
      "source": [
        "# Index on x to return 9\n",
        "x[0, 2, 2]"
      ],
      "metadata": {
        "colab": {
          "base_uri": "https://localhost:8080/"
        },
        "id": "HboFVUmSISrL",
        "outputId": "0cf8c66f-e0fd-4136-c781-c2efc71c8c45"
      },
      "execution_count": null,
      "outputs": [
        {
          "output_type": "execute_result",
          "data": {
            "text/plain": [
              "tensor(9)"
            ]
          },
          "metadata": {},
          "execution_count": 92
        }
      ]
    },
    {
      "cell_type": "code",
      "source": [
        "# Index on x to return 3, 6, 9\n",
        "x[0, :, 2]"
      ],
      "metadata": {
        "colab": {
          "base_uri": "https://localhost:8080/"
        },
        "id": "yT8wSAlwMOZc",
        "outputId": "253467e2-a031-4608-93c3-bf687e9c649e"
      },
      "execution_count": null,
      "outputs": [
        {
          "output_type": "execute_result",
          "data": {
            "text/plain": [
              "tensor([3, 6, 9])"
            ]
          },
          "metadata": {},
          "execution_count": 93
        }
      ]
    },
    {
      "cell_type": "markdown",
      "source": [
        "## **pytorch tensors & numpy**"
      ],
      "metadata": {
        "id": "QMWzea2AzUBg"
      }
    },
    {
      "cell_type": "markdown",
      "source": [
        "### numpy -> tensor"
      ],
      "metadata": {
        "id": "EtUxEa9Vz2ld"
      }
    },
    {
      "cell_type": "code",
      "source": [
        "## default dtype\n",
        "# numpy: float64\n",
        "# torch: float32\n",
        "\n",
        "## from_numpy(): np array -> tensor\n",
        "import torch\n",
        "import numpy as np\n",
        "\n",
        "array = np.arange(1.0, 8.0)\n",
        "tensor = torch.from_numpy(array)\n",
        "array, tensor"
      ],
      "metadata": {
        "id": "LxQJQXfKMYbZ",
        "colab": {
          "base_uri": "https://localhost:8080/"
        },
        "outputId": "0e507733-fb86-4ee6-b202-d880b3c81f3d"
      },
      "execution_count": 3,
      "outputs": [
        {
          "output_type": "execute_result",
          "data": {
            "text/plain": [
              "(array([1., 2., 3., 4., 5., 6., 7.]),\n",
              " tensor([1., 2., 3., 4., 5., 6., 7.], dtype=torch.float64))"
            ]
          },
          "metadata": {},
          "execution_count": 3
        }
      ]
    },
    {
      "cell_type": "code",
      "source": [
        "# tensor -> np array\n",
        "tensor = torch.ones(7)\n",
        "np_tensor = tensor.numpy()\n",
        "tensor, np_tensor"
      ],
      "metadata": {
        "colab": {
          "base_uri": "https://localhost:8080/"
        },
        "id": "aZ6hnf-dz5-X",
        "outputId": "51f22c3a-a7aa-431b-f361-d789116e8cf9"
      },
      "execution_count": 4,
      "outputs": [
        {
          "output_type": "execute_result",
          "data": {
            "text/plain": [
              "(tensor([1., 1., 1., 1., 1., 1., 1.]),\n",
              " array([1., 1., 1., 1., 1., 1., 1.], dtype=float32))"
            ]
          },
          "metadata": {},
          "execution_count": 4
        }
      ]
    },
    {
      "cell_type": "markdown",
      "source": [
        "## **Reproducibility**"
      ],
      "metadata": {
        "id": "1YVAdJsw1xwC"
      }
    },
    {
      "cell_type": "code",
      "source": [
        "RANDOM_SEED = 42\n",
        "torch.manual_seed(RANDOM_SEED)\n",
        "\n",
        "torch.rand(3,4)"
      ],
      "metadata": {
        "colab": {
          "base_uri": "https://localhost:8080/"
        },
        "id": "Wem0E5M71aH3",
        "outputId": "2bd7c31b-422c-4938-dd90-72924ab3d903"
      },
      "execution_count": 7,
      "outputs": [
        {
          "output_type": "execute_result",
          "data": {
            "text/plain": [
              "tensor([[0.8823, 0.9150, 0.3829, 0.9593],\n",
              "        [0.3904, 0.6009, 0.2566, 0.7936],\n",
              "        [0.9408, 0.1332, 0.9346, 0.5936]])"
            ]
          },
          "metadata": {},
          "execution_count": 7
        }
      ]
    },
    {
      "cell_type": "markdown",
      "source": [
        "## **Running tensors and pytorch objects on GPUs (and making faster computations)**"
      ],
      "metadata": {
        "id": "E_DVg6Ri4CMA"
      }
    },
    {
      "cell_type": "code",
      "source": [
        "!nvidia-smi"
      ],
      "metadata": {
        "colab": {
          "base_uri": "https://localhost:8080/"
        },
        "id": "bxUnX06R3QBl",
        "outputId": "c0eb991c-8867-4ffa-aaa6-02bc1bf77806"
      },
      "execution_count": 1,
      "outputs": [
        {
          "output_type": "stream",
          "name": "stdout",
          "text": [
            "Wed Dec 27 06:14:18 2023       \n",
            "+---------------------------------------------------------------------------------------+\n",
            "| NVIDIA-SMI 535.104.05             Driver Version: 535.104.05   CUDA Version: 12.2     |\n",
            "|-----------------------------------------+----------------------+----------------------+\n",
            "| GPU  Name                 Persistence-M | Bus-Id        Disp.A | Volatile Uncorr. ECC |\n",
            "| Fan  Temp   Perf          Pwr:Usage/Cap |         Memory-Usage | GPU-Util  Compute M. |\n",
            "|                                         |                      |               MIG M. |\n",
            "|=========================================+======================+======================|\n",
            "|   0  Tesla T4                       Off | 00000000:00:04.0 Off |                    0 |\n",
            "| N/A   67C    P8              11W /  70W |      0MiB / 15360MiB |      0%      Default |\n",
            "|                                         |                      |                  N/A |\n",
            "+-----------------------------------------+----------------------+----------------------+\n",
            "                                                                                         \n",
            "+---------------------------------------------------------------------------------------+\n",
            "| Processes:                                                                            |\n",
            "|  GPU   GI   CI        PID   Type   Process name                            GPU Memory |\n",
            "|        ID   ID                                                             Usage      |\n",
            "|=======================================================================================|\n",
            "|  No running processes found                                                           |\n",
            "+---------------------------------------------------------------------------------------+\n"
          ]
        }
      ]
    },
    {
      "cell_type": "markdown",
      "source": [
        "### Check for GPU access with pytorch"
      ],
      "metadata": {
        "id": "a4vy-LtT6w2o"
      }
    },
    {
      "cell_type": "code",
      "source": [
        "import torch\n",
        "torch.cuda.is_available()"
      ],
      "metadata": {
        "colab": {
          "base_uri": "https://localhost:8080/"
        },
        "id": "EdmKUZic6Ni-",
        "outputId": "7df83898-59ad-4036-b944-ef0b62cc095d"
      },
      "execution_count": 2,
      "outputs": [
        {
          "output_type": "execute_result",
          "data": {
            "text/plain": [
              "True"
            ]
          },
          "metadata": {},
          "execution_count": 2
        }
      ]
    },
    {
      "cell_type": "markdown",
      "source": [
        "### Setup device agnostic code"
      ],
      "metadata": {
        "id": "DgDzM1H562fy"
      }
    },
    {
      "cell_type": "code",
      "source": [
        "device = \"cuda\" if torch.cuda.is_available() else \"cpu\"\n",
        "device"
      ],
      "metadata": {
        "colab": {
          "base_uri": "https://localhost:8080/",
          "height": 35
        },
        "id": "dgWar84T6TEK",
        "outputId": "f2137995-bcf1-4780-e979-4e049a94addb"
      },
      "execution_count": 3,
      "outputs": [
        {
          "output_type": "execute_result",
          "data": {
            "text/plain": [
              "'cuda'"
            ],
            "application/vnd.google.colaboratory.intrinsic+json": {
              "type": "string"
            }
          },
          "metadata": {},
          "execution_count": 3
        }
      ]
    },
    {
      "cell_type": "markdown",
      "source": [
        "### Count number of devices"
      ],
      "metadata": {
        "id": "s-h4geLw7ICA"
      }
    },
    {
      "cell_type": "code",
      "source": [
        "torch.cuda.device_count()"
      ],
      "metadata": {
        "colab": {
          "base_uri": "https://localhost:8080/"
        },
        "id": "azrEg9x_7CT2",
        "outputId": "7a4b59be-ac38-4214-9b0b-badaf8fa96dd"
      },
      "execution_count": 4,
      "outputs": [
        {
          "output_type": "execute_result",
          "data": {
            "text/plain": [
              "1"
            ]
          },
          "metadata": {},
          "execution_count": 4
        }
      ]
    },
    {
      "cell_type": "markdown",
      "source": [
        "### Putting tensors (and models) on the GPU"
      ],
      "metadata": {
        "id": "VPOotZAXgBEB"
      }
    },
    {
      "cell_type": "code",
      "source": [
        "tensor = torch.tensor([1, 2, 3], device=\"cpu\") # default device is \"cpu\"\n",
        "tensor, tensor.device"
      ],
      "metadata": {
        "colab": {
          "base_uri": "https://localhost:8080/"
        },
        "id": "afDJsZfO7MQ4",
        "outputId": "770539eb-70e9-4538-f0af-13bc24d65508"
      },
      "execution_count": 6,
      "outputs": [
        {
          "output_type": "execute_result",
          "data": {
            "text/plain": [
              "(tensor([1, 2, 3]), device(type='cpu'))"
            ]
          },
          "metadata": {},
          "execution_count": 6
        }
      ]
    },
    {
      "cell_type": "code",
      "source": [
        "# Move tensor to GPU (if available)\n",
        "# the 0 from 'cuda:0' means the index of our gpu\n",
        "device = \"cuda\" if torch.cuda.is_available() else \"cpu\"\n",
        "tensor_on_gpu = tensor.to(device)\n",
        "tensor_on_gpu"
      ],
      "metadata": {
        "colab": {
          "base_uri": "https://localhost:8080/"
        },
        "id": "-eEOeGxKgYgF",
        "outputId": "964899f0-7539-4a43-bea7-711eb1937bbd"
      },
      "execution_count": 7,
      "outputs": [
        {
          "output_type": "execute_result",
          "data": {
            "text/plain": [
              "tensor([1, 2, 3], device='cuda:0')"
            ]
          },
          "metadata": {},
          "execution_count": 7
        }
      ]
    },
    {
      "cell_type": "markdown",
      "source": [
        "### Moving tensors back to the CPU"
      ],
      "metadata": {
        "id": "BSlp8WbAhnG1"
      }
    },
    {
      "cell_type": "code",
      "source": [
        "# As you can see numpy doesn't work with GPUs it only works with CPUs\n",
        "tensor_on_gpu.numpy()"
      ],
      "metadata": {
        "colab": {
          "base_uri": "https://localhost:8080/",
          "height": 176
        },
        "id": "UMy790ITg2GE",
        "outputId": "f67319be-4483-4017-cd5b-1f394d0d74ee"
      },
      "execution_count": 9,
      "outputs": [
        {
          "output_type": "error",
          "ename": "TypeError",
          "evalue": "ignored",
          "traceback": [
            "\u001b[0;31m---------------------------------------------------------------------------\u001b[0m",
            "\u001b[0;31mTypeError\u001b[0m                                 Traceback (most recent call last)",
            "\u001b[0;32m<ipython-input-9-e0c96c7436fd>\u001b[0m in \u001b[0;36m<cell line: 1>\u001b[0;34m()\u001b[0m\n\u001b[0;32m----> 1\u001b[0;31m \u001b[0mtensor_on_gpu\u001b[0m\u001b[0;34m.\u001b[0m\u001b[0mnumpy\u001b[0m\u001b[0;34m(\u001b[0m\u001b[0;34m)\u001b[0m\u001b[0;34m\u001b[0m\u001b[0;34m\u001b[0m\u001b[0m\n\u001b[0m",
            "\u001b[0;31mTypeError\u001b[0m: can't convert cuda:0 device type tensor to numpy. Use Tensor.cpu() to copy the tensor to host memory first."
          ]
        }
      ]
    },
    {
      "cell_type": "code",
      "source": [
        "tensor_back_on_cpi = tensor_on_gpu.cpu().numpy()\n",
        "tensor_back_on_cpi"
      ],
      "metadata": {
        "colab": {
          "base_uri": "https://localhost:8080/"
        },
        "id": "yIWZxtCQhlac",
        "outputId": "21f74f97-9dce-4329-d65b-840e03dedf97"
      },
      "execution_count": 10,
      "outputs": [
        {
          "output_type": "execute_result",
          "data": {
            "text/plain": [
              "array([1, 2, 3])"
            ]
          },
          "metadata": {},
          "execution_count": 10
        }
      ]
    },
    {
      "cell_type": "code",
      "source": [],
      "metadata": {
        "id": "23NVcyP5iKwC"
      },
      "execution_count": null,
      "outputs": []
    }
  ]
}