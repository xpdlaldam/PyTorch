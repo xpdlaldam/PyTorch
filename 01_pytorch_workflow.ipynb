{
  "nbformat": 4,
  "nbformat_minor": 0,
  "metadata": {
    "colab": {
      "provenance": [],
      "authorship_tag": "ABX9TyNTl+fwvABvtCk3JXh6UJlG",
      "include_colab_link": true
    },
    "kernelspec": {
      "name": "python3",
      "display_name": "Python 3"
    },
    "language_info": {
      "name": "python"
    }
  },
  "cells": [
    {
      "cell_type": "markdown",
      "metadata": {
        "id": "view-in-github",
        "colab_type": "text"
      },
      "source": [
        "<a href=\"https://colab.research.google.com/github/xpdlaldam/PyTorch/blob/main/01_pytorch_workflow.ipynb\" target=\"_parent\"><img src=\"https://colab.research.google.com/assets/colab-badge.svg\" alt=\"Open In Colab\"/></a>"
      ]
    },
    {
      "cell_type": "markdown",
      "source": [
        "# Linear Regression"
      ],
      "metadata": {
        "id": "u9mi4zQCP6hQ"
      }
    },
    {
      "cell_type": "code",
      "execution_count": 23,
      "metadata": {
        "colab": {
          "base_uri": "https://localhost:8080/",
          "height": 35
        },
        "id": "yUBkjCcokN_q",
        "outputId": "b182e60e-08fa-4556-b667-786dd8c91c06"
      },
      "outputs": [
        {
          "output_type": "execute_result",
          "data": {
            "text/plain": [
              "'2.1.0+cu121'"
            ],
            "application/vnd.google.colaboratory.intrinsic+json": {
              "type": "string"
            }
          },
          "metadata": {},
          "execution_count": 23
        }
      ],
      "source": [
        "import torch\n",
        "from torch import nn ## nn contains all of pytorch's building blocks for nerual networks\n",
        "import matplotlib.pyplot as plt\n",
        "\n",
        "torch.__version__"
      ]
    },
    {
      "cell_type": "code",
      "source": [
        "# Create known parameters\n",
        "weight = .7\n",
        "bias = .3\n",
        "\n",
        "# Create data & model\n",
        "start = 0\n",
        "end = 1\n",
        "step = .02\n",
        "\n",
        "## unsqueeze(dim=1)\n",
        "# adds 1-D i.e., [ => [[\n",
        "# we need 2-D for modeling\n",
        "X = torch.arange(start, end, step).unsqueeze(dim=1)\n",
        "y = weight * X + bias\n",
        "y"
      ],
      "metadata": {
        "id": "GDu0oEYSlteF",
        "colab": {
          "base_uri": "https://localhost:8080/"
        },
        "outputId": "91e25bf7-31ba-44bb-8e91-c2777fd97bc5"
      },
      "execution_count": 24,
      "outputs": [
        {
          "output_type": "execute_result",
          "data": {
            "text/plain": [
              "tensor([[0.3000],\n",
              "        [0.3140],\n",
              "        [0.3280],\n",
              "        [0.3420],\n",
              "        [0.3560],\n",
              "        [0.3700],\n",
              "        [0.3840],\n",
              "        [0.3980],\n",
              "        [0.4120],\n",
              "        [0.4260],\n",
              "        [0.4400],\n",
              "        [0.4540],\n",
              "        [0.4680],\n",
              "        [0.4820],\n",
              "        [0.4960],\n",
              "        [0.5100],\n",
              "        [0.5240],\n",
              "        [0.5380],\n",
              "        [0.5520],\n",
              "        [0.5660],\n",
              "        [0.5800],\n",
              "        [0.5940],\n",
              "        [0.6080],\n",
              "        [0.6220],\n",
              "        [0.6360],\n",
              "        [0.6500],\n",
              "        [0.6640],\n",
              "        [0.6780],\n",
              "        [0.6920],\n",
              "        [0.7060],\n",
              "        [0.7200],\n",
              "        [0.7340],\n",
              "        [0.7480],\n",
              "        [0.7620],\n",
              "        [0.7760],\n",
              "        [0.7900],\n",
              "        [0.8040],\n",
              "        [0.8180],\n",
              "        [0.8320],\n",
              "        [0.8460],\n",
              "        [0.8600],\n",
              "        [0.8740],\n",
              "        [0.8880],\n",
              "        [0.9020],\n",
              "        [0.9160],\n",
              "        [0.9300],\n",
              "        [0.9440],\n",
              "        [0.9580],\n",
              "        [0.9720],\n",
              "        [0.9860]])"
            ]
          },
          "metadata": {},
          "execution_count": 24
        }
      ]
    },
    {
      "cell_type": "code",
      "source": [
        "torch.arange(start, end, step)"
      ],
      "metadata": {
        "colab": {
          "base_uri": "https://localhost:8080/"
        },
        "id": "4FM1y01rQWnH",
        "outputId": "82f6995d-163e-43ba-ef03-7b6941b125d7"
      },
      "execution_count": 25,
      "outputs": [
        {
          "output_type": "execute_result",
          "data": {
            "text/plain": [
              "tensor([0.0000, 0.0200, 0.0400, 0.0600, 0.0800, 0.1000, 0.1200, 0.1400, 0.1600,\n",
              "        0.1800, 0.2000, 0.2200, 0.2400, 0.2600, 0.2800, 0.3000, 0.3200, 0.3400,\n",
              "        0.3600, 0.3800, 0.4000, 0.4200, 0.4400, 0.4600, 0.4800, 0.5000, 0.5200,\n",
              "        0.5400, 0.5600, 0.5800, 0.6000, 0.6200, 0.6400, 0.6600, 0.6800, 0.7000,\n",
              "        0.7200, 0.7400, 0.7600, 0.7800, 0.8000, 0.8200, 0.8400, 0.8600, 0.8800,\n",
              "        0.9000, 0.9200, 0.9400, 0.9600, 0.9800])"
            ]
          },
          "metadata": {},
          "execution_count": 25
        }
      ]
    },
    {
      "cell_type": "markdown",
      "source": [
        "# Split to train & test"
      ],
      "metadata": {
        "id": "wf_OyPfZRgiZ"
      }
    },
    {
      "cell_type": "code",
      "source": [
        "split_ratio = int(.8 * len(X))\n",
        "X_train, y_train = X[:split_ratio], y[:split_ratio]\n",
        "X_test, y_test = X[split_ratio:], y[split_ratio:]\n",
        "\n",
        "len(X_train), len(y_train), len(X_test), len(y_test)"
      ],
      "metadata": {
        "colab": {
          "base_uri": "https://localhost:8080/"
        },
        "id": "YdAN9gsEQc9R",
        "outputId": "6b4e0faf-53e3-4497-fcb4-6296e2a0c2cb"
      },
      "execution_count": 26,
      "outputs": [
        {
          "output_type": "execute_result",
          "data": {
            "text/plain": [
              "(40, 40, 10, 10)"
            ]
          },
          "metadata": {},
          "execution_count": 26
        }
      ]
    },
    {
      "cell_type": "markdown",
      "source": [
        "# Plot"
      ],
      "metadata": {
        "id": "c_MDgdnCTud6"
      }
    },
    {
      "cell_type": "code",
      "source": [
        "def plot_pred(\n",
        "    train_data=X_train,\n",
        "    train_labels=y_train,\n",
        "    test_data=X_test,\n",
        "    test_labels=y_test,\n",
        "    pred=None,\n",
        "):\n",
        "  \"\"\"\n",
        "  Plots training & test data and compares against predictions\n",
        "  \"\"\"\n",
        "  plt.figure(figsize=(10, 7))\n",
        "  plt.scatter(train_data, train_labels, c=\"b\", s=4, label=\"Train set\") # plots train set\n",
        "  plt.scatter(test_data, test_labels, c=\"g\", s=4, label=\"Test set\") # plots train set\n",
        "\n",
        "  # are there predictions?\n",
        "  # if pred: # this checks if pred is True\n",
        "  if pred is not None: # this checks only the reference pred with None to see if they are the same\n",
        "    plt.scatter(test_data, pred, c=\"r\", s=4, label=\"Predictions\")\n",
        "\n",
        "  # legend\n",
        "  plt.legend(prop={\"size\": 14})\n"
      ],
      "metadata": {
        "id": "N8PGonJ6TJBr"
      },
      "execution_count": 27,
      "outputs": []
    },
    {
      "cell_type": "code",
      "source": [
        "plot_pred()"
      ],
      "metadata": {
        "colab": {
          "base_uri": "https://localhost:8080/",
          "height": 599
        },
        "id": "jZMxBYhnVddH",
        "outputId": "51e69320-b12d-4437-e707-a218490adef3"
      },
      "execution_count": 28,
      "outputs": [
        {
          "output_type": "display_data",
          "data": {
            "text/plain": [
              "<Figure size 1000x700 with 1 Axes>"
            ],
            "image/png": "[encoded data removed]"
          },
          "metadata": {}
        }
      ]
    },
    {
      "cell_type": "markdown",
      "source": [
        "# Build model"
      ],
      "metadata": {
        "id": "tVVPPM9v-qRn"
      }
    },
    {
      "cell_type": "code",
      "source": [
        "from torch import nn\n",
        "\n",
        "## nn.Module:\n",
        "  # almost everything in pytorch inherits nn.module\n",
        "  # subclasses nn.Module which contains all the building blocks for neural networks\n",
        "## 1: start with a random weight\n",
        "## requires_grad=True: can this parameter be updated via gradient descent?\n",
        "## dtype=torch.float: pytorch loves torch.float32\n",
        "class LinearRegressionModel(nn.Module):\n",
        "  def __init__(self):\n",
        "    super().__init__()\n",
        "\n",
        "    ## Initialize model parameters\n",
        "    self.weights = nn.Parameter(torch.randn(1, requires_grad=True, dtype=torch.float)) # default: float32\n",
        "\n",
        "    self.bias = nn.Parameter(torch.randn(1, requires_grad=True, dtype=torch.float))\n",
        "\n",
        "  # Forward\n",
        "  def forward(self, x: torch.Tensor) -> torch.Tensor: # x is the input data (tensor)\n",
        "    return self.weights * x + self.bias"
      ],
      "metadata": {
        "id": "mafAyf-YViCE"
      },
      "execution_count": 29,
      "outputs": []
    },
    {
      "cell_type": "markdown",
      "source": [
        "# pytorch model building essentials\n",
        "\n",
        "* torch.nn - contains all the buildings for computational graphs i.e., a neural network\n",
        "* torch.nn.Parameter - what parameters should our model try and learn, often a pytorch layer from torch.nn will set these for us\n",
        "* torch.nn.Module - The base class for all neural network modules, if you subclass it, you should override forward()\n",
        "* torch.optim - this is where optimizers in pytorch lives which helps with gradient descent i.e., instead of random initialization\n",
        "* def forward() - all nn.Module subclasses require you to override"
      ],
      "metadata": {
        "id": "pIGZVjOID9yf"
      }
    },
    {
      "cell_type": "code",
      "source": [
        "torch.randn(1)"
      ],
      "metadata": {
        "colab": {
          "base_uri": "https://localhost:8080/"
        },
        "id": "oIDvagdrG9_o",
        "outputId": "174c354e-da6e-4f57-ac0a-63b78df64f8e"
      },
      "execution_count": 30,
      "outputs": [
        {
          "output_type": "execute_result",
          "data": {
            "text/plain": [
              "tensor([0.2345])"
            ]
          },
          "metadata": {},
          "execution_count": 30
        }
      ]
    },
    {
      "cell_type": "code",
      "source": [
        "torch.manual_seed(42)\n",
        "\n",
        "lin_reg = LinearRegressionModel()\n",
        "list(lin_reg.parameters())"
      ],
      "metadata": {
        "colab": {
          "base_uri": "https://localhost:8080/"
        },
        "id": "ytKZMsNzEALN",
        "outputId": "a561c4d5-57e3-4afb-9e78-9a00d496b8ed"
      },
      "execution_count": 31,
      "outputs": [
        {
          "output_type": "execute_result",
          "data": {
            "text/plain": [
              "[Parameter containing:\n",
              " tensor([0.3367], requires_grad=True),\n",
              " Parameter containing:\n",
              " tensor([0.1288], requires_grad=True)]"
            ]
          },
          "metadata": {},
          "execution_count": 31
        }
      ]
    },
    {
      "cell_type": "code",
      "source": [
        "# list named parameters\n",
        "lin_reg.state_dict()"
      ],
      "metadata": {
        "colab": {
          "base_uri": "https://localhost:8080/"
        },
        "id": "09TqXOaHGuXM",
        "outputId": "21b9cb89-45bc-4f28-ff31-73d681c4857f"
      },
      "execution_count": 32,
      "outputs": [
        {
          "output_type": "execute_result",
          "data": {
            "text/plain": [
              "OrderedDict([('weights', tensor([0.3367])), ('bias', tensor([0.1288]))])"
            ]
          },
          "metadata": {},
          "execution_count": 32
        }
      ]
    },
    {
      "cell_type": "markdown",
      "source": [
        "## Predict using `torch.inference_mode()`"
      ],
      "metadata": {
        "id": "ZWeTnSygipLe"
      }
    },
    {
      "cell_type": "code",
      "source": [
        "X_test"
      ],
      "metadata": {
        "colab": {
          "base_uri": "https://localhost:8080/"
        },
        "id": "aHHR-5GCi4Lk",
        "outputId": "c64ccbcf-b778-4f2e-d781-aa8751559232"
      },
      "execution_count": 33,
      "outputs": [
        {
          "output_type": "execute_result",
          "data": {
            "text/plain": [
              "tensor([[0.8000],\n",
              "        [0.8200],\n",
              "        [0.8400],\n",
              "        [0.8600],\n",
              "        [0.8800],\n",
              "        [0.9000],\n",
              "        [0.9200],\n",
              "        [0.9400],\n",
              "        [0.9600],\n",
              "        [0.9800]])"
            ]
          },
          "metadata": {},
          "execution_count": 33
        }
      ]
    },
    {
      "cell_type": "code",
      "source": [
        "y_test"
      ],
      "metadata": {
        "colab": {
          "base_uri": "https://localhost:8080/"
        },
        "id": "oXRFYDRni8fi",
        "outputId": "3580429d-f7c5-4b95-b972-b72340836888"
      },
      "execution_count": 34,
      "outputs": [
        {
          "output_type": "execute_result",
          "data": {
            "text/plain": [
              "tensor([[0.8600],\n",
              "        [0.8740],\n",
              "        [0.8880],\n",
              "        [0.9020],\n",
              "        [0.9160],\n",
              "        [0.9300],\n",
              "        [0.9440],\n",
              "        [0.9580],\n",
              "        [0.9720],\n",
              "        [0.9860]])"
            ]
          },
          "metadata": {},
          "execution_count": 34
        }
      ]
    },
    {
      "cell_type": "code",
      "source": [
        "## * CRUCIAL CONCEPT & TIP: Benefits of using a context manager\n",
        "# Turns off/disables gradient => because we're only doing inference, we don't need to track gradient\n",
        "# This context manager becomes useful when we have a much larger dataset\n",
        "# The prediction will be much faster than w/o using a context manager as it disables unnecessary steps used for training\n",
        "# lin_reg(X_test) leaves the gradient\n",
        "with torch.inference_mode():\n",
        "  y_preds = lin_reg(X_test)\n",
        "\n",
        "# or\n",
        "# ctrl + /\n",
        "# with torch.no_grad():\n",
        "#   y_preds = lin_reg(X_test)\n",
        "\n",
        "y_preds"
      ],
      "metadata": {
        "colab": {
          "base_uri": "https://localhost:8080/"
        },
        "id": "SC67PfT3Hryo",
        "outputId": "72628757-fa3b-48b8-e145-b88287b5f359"
      },
      "execution_count": 35,
      "outputs": [
        {
          "output_type": "execute_result",
          "data": {
            "text/plain": [
              "tensor([[0.3982],\n",
              "        [0.4049],\n",
              "        [0.4116],\n",
              "        [0.4184],\n",
              "        [0.4251],\n",
              "        [0.4318],\n",
              "        [0.4386],\n",
              "        [0.4453],\n",
              "        [0.4520],\n",
              "        [0.4588]])"
            ]
          },
          "metadata": {},
          "execution_count": 35
        }
      ]
    },
    {
      "cell_type": "code",
      "source": [
        "plot_pred(pred=y_preds)"
      ],
      "metadata": {
        "colab": {
          "base_uri": "https://localhost:8080/",
          "height": 599
        },
        "id": "DU5Yg-vDjiHw",
        "outputId": "a1ab55d4-4123-4160-dde6-c5d2b5198464"
      },
      "execution_count": 36,
      "outputs": [
        {
          "output_type": "display_data",
          "data": {
            "text/plain": [
              "<Figure size 1000x700 with 1 Axes>"
            ],
            "image/png": "[encoded data removed]"
          },
          "metadata": {}
        }
      ]
    },
    {
      "cell_type": "markdown",
      "source": [
        "# Train model\n",
        "\n",
        "* note: loss function = cost function = criterion\n",
        "\n",
        "Things we need to train:\n",
        "* **Loss function**:\n",
        "* **Optimizer**: Takes into account the loss of a model and adjusts the model's parameters (e.g. weight & bias)\n",
        "* A training loop\n",
        "* A testing loop"
      ],
      "metadata": {
        "id": "ure-tJXsfADO"
      }
    },
    {
      "cell_type": "code",
      "source": [
        "## Setup a loss function\n",
        "loss_fn = nn.L1Loss() # MAE\n",
        "\n",
        "## parameter vs hyperparameter\n",
        "# parameter - the model finds it\n",
        "# hyperparameter - the data scientists define it\n",
        "\n",
        "## Setup an optimizer\n",
        "# params - the model parameters you'd like to optimize\n",
        "# lr - a hyperparameter that defines the magnitude of change for the optimizer with each step\n",
        "optimizer = torch.optim.SGD(\n",
        "    params=lin_reg.parameters(),\n",
        "    lr=.01\n",
        ") # SGD"
      ],
      "metadata": {
        "id": "NjnstjKdkH1o"
      },
      "execution_count": 37,
      "outputs": []
    },
    {
      "cell_type": "markdown",
      "source": [
        "# Build a training loop in pytorch\n",
        "\n",
        "## What we need in a training loop\n",
        "0. Loop through the data\n",
        "1. Forward pass/propagation to make predictions\n",
        "2. Compute the loss: compare forward pass predictions vs ground truth\n",
        "3. Optimizer zero grad\n",
        "4. Loss backward / **backpropagation** - computes the gradients of each of the parameters with respect to the loss\n",
        "5. Optimizer step / **gradient descent** - adjusts our model's parameters to improve the loss"
      ],
      "metadata": {
        "id": "HhWCXUcvvcFG"
      }
    },
    {
      "cell_type": "code",
      "source": [
        "torch.manual_seed(42)\n",
        "\n",
        "# An epoch: one loop through the data (a hyperparameter); a single forward pass\n",
        "epochs = 200\n",
        "\n",
        "# Track different values\n",
        "epoch_count = []\n",
        "loss_values = []\n",
        "test_loss_values = []\n",
        "\n",
        "### Train\n",
        "# 0.\n",
        "for epoch in range(epochs):\n",
        "  lin_reg.train() # set the model to training mode which sets all parameters to require gradients\n",
        "\n",
        "  ## 1. forward pass\n",
        "  y_pred = lin_reg(X_train)\n",
        "\n",
        "  ## 2. loss\n",
        "  loss = loss_fn(y_pred, y_train)\n",
        "  # print(f\"Loss: {loss}\")\n",
        "\n",
        "  ## 3. optimizer zero grad\n",
        "  # starts fresh\n",
        "  optimizer.zero_grad()\n",
        "\n",
        "  ## 4. backpropagation - on the loss with respect to the parameters of the model\n",
        "  loss.backward()\n",
        "\n",
        "  ## 5. step the optimizer (perform gradient descent)\n",
        "  # by default, how the optimizer changes will accumulate\n",
        "  # through the loop, hence we have to zero them in step 3\n",
        "  # for the next iteration of the loop\n",
        "  optimizer.step()\n",
        "\n",
        "  ### Test\n",
        "  lin_reg.eval() # turns off different settings in the model not needed for testing (ex) dropout, batch norm layers)\n",
        "  with torch.inference_mode(): # turns off gradient tracking + a couple more things behind\n",
        "    # 1. forward pass\n",
        "    test_pred = lin_reg(X_test)\n",
        "\n",
        "    # 2. compute the loss\n",
        "    test_loss = loss_fn(test_pred, y_test)\n",
        "\n",
        "  if epoch & 10 == 0:\n",
        "    epoch_count.append(epoch)\n",
        "    loss_values.append(loss)\n",
        "    test_loss_values.append(test_loss)\n",
        "    print(f\"Epoch: {epoch} | Test: {loss} | Test loss: {test_loss}\")\n",
        "    print(lin_reg.state_dict())"
      ],
      "metadata": {
        "id": "sWyTpdmzkf4R",
        "colab": {
          "base_uri": "https://localhost:8080/"
        },
        "outputId": "39cafac6-3664-4d19-9ae4-b61fd9953ece"
      },
      "execution_count": 38,
      "outputs": [
        {
          "output_type": "stream",
          "name": "stdout",
          "text": [
            "Epoch: 0 | Test: 0.31288138031959534 | Test loss: 0.48106518387794495\n",
            "OrderedDict([('weights', tensor([0.3406])), ('bias', tensor([0.1388]))])\n",
            "Epoch: 1 | Test: 0.3013603389263153 | Test loss: 0.4675942063331604\n",
            "OrderedDict([('weights', tensor([0.3445])), ('bias', tensor([0.1488]))])\n",
            "Epoch: 4 | Test: 0.26679736375808716 | Test loss: 0.4271811842918396\n",
            "OrderedDict([('weights', tensor([0.3562])), ('bias', tensor([0.1788]))])\n",
            "Epoch: 5 | Test: 0.2552763521671295 | Test loss: 0.41371020674705505\n",
            "OrderedDict([('weights', tensor([0.3601])), ('bias', tensor([0.1888]))])\n",
            "Epoch: 16 | Test: 0.1285453587770462 | Test loss: 0.2655292749404907\n",
            "OrderedDict([('weights', tensor([0.4030])), ('bias', tensor([0.2988]))])\n",
            "Epoch: 17 | Test: 0.11702437698841095 | Test loss: 0.2520582973957062\n",
            "OrderedDict([('weights', tensor([0.4069])), ('bias', tensor([0.3088]))])\n",
            "Epoch: 20 | Test: 0.08908725529909134 | Test loss: 0.21729660034179688\n",
            "OrderedDict([('weights', tensor([0.4184])), ('bias', tensor([0.3333]))])\n",
            "Epoch: 21 | Test: 0.08227583020925522 | Test loss: 0.2069590985774994\n",
            "OrderedDict([('weights', tensor([0.4222])), ('bias', tensor([0.3403]))])\n",
            "Epoch: 32 | Test: 0.05069301277399063 | Test loss: 0.13647659122943878\n",
            "OrderedDict([('weights', tensor([0.4564])), ('bias', tensor([0.3803]))])\n",
            "Epoch: 33 | Test: 0.0498228520154953 | Test loss: 0.13271598517894745\n",
            "OrderedDict([('weights', tensor([0.4590])), ('bias', tensor([0.3818]))])\n",
            "Epoch: 36 | Test: 0.047531817108392715 | Test loss: 0.12273679673671722\n",
            "OrderedDict([('weights', tensor([0.4662])), ('bias', tensor([0.3853]))])\n",
            "Epoch: 37 | Test: 0.04692792519927025 | Test loss: 0.1202877014875412\n",
            "OrderedDict([('weights', tensor([0.4684])), ('bias', tensor([0.3858]))])\n",
            "Epoch: 48 | Test: 0.04237663000822067 | Test loss: 0.10140349715948105\n",
            "OrderedDict([('weights', tensor([0.4902])), ('bias', tensor([0.3853]))])\n",
            "Epoch: 49 | Test: 0.04202762991189957 | Test loss: 0.10030148178339005\n",
            "OrderedDict([('weights', tensor([0.4920])), ('bias', tensor([0.3848]))])\n",
            "Epoch: 52 | Test: 0.04098063334822655 | Test loss: 0.09699545800685883\n",
            "OrderedDict([('weights', tensor([0.4974])), ('bias', tensor([0.3833]))])\n",
            "Epoch: 53 | Test: 0.04063162952661514 | Test loss: 0.09589345753192902\n",
            "OrderedDict([('weights', tensor([0.4992])), ('bias', tensor([0.3828]))])\n",
            "Epoch: 64 | Test: 0.03681822493672371 | Test loss: 0.08514519035816193\n",
            "OrderedDict([('weights', tensor([0.5186])), ('bias', tensor([0.3763]))])\n",
            "Epoch: 65 | Test: 0.03647511452436447 | Test loss: 0.08473004400730133\n",
            "OrderedDict([('weights', tensor([0.5202])), ('bias', tensor([0.3753]))])\n",
            "Epoch: 68 | Test: 0.03544783592224121 | Test loss: 0.08211090415716171\n",
            "OrderedDict([('weights', tensor([0.5254])), ('bias', tensor([0.3733]))])\n",
            "Epoch: 69 | Test: 0.035098835825920105 | Test loss: 0.0810088962316513\n",
            "OrderedDict([('weights', tensor([0.5272])), ('bias', tensor([0.3728]))])\n",
            "Epoch: 80 | Test: 0.03132382780313492 | Test loss: 0.07232122868299484\n",
            "OrderedDict([('weights', tensor([0.5459])), ('bias', tensor([0.3648]))])\n",
            "Epoch: 81 | Test: 0.030979642644524574 | Test loss: 0.07190609723329544\n",
            "OrderedDict([('weights', tensor([0.5475])), ('bias', tensor([0.3638]))])\n",
            "Epoch: 84 | Test: 0.029953425750136375 | Test loss: 0.06928696483373642\n",
            "OrderedDict([('weights', tensor([0.5527])), ('bias', tensor([0.3618]))])\n",
            "Epoch: 85 | Test: 0.02960442565381527 | Test loss: 0.06818496435880661\n",
            "OrderedDict([('weights', tensor([0.5545])), ('bias', tensor([0.3613]))])\n",
            "Epoch: 96 | Test: 0.025829419493675232 | Test loss: 0.05949730426073074\n",
            "OrderedDict([('weights', tensor([0.5733])), ('bias', tensor([0.3533]))])\n",
            "Epoch: 97 | Test: 0.02548416517674923 | Test loss: 0.05908216908574104\n",
            "OrderedDict([('weights', tensor([0.5748])), ('bias', tensor([0.3523]))])\n",
            "Epoch: 100 | Test: 0.024458957836031914 | Test loss: 0.05646304413676262\n",
            "OrderedDict([('weights', tensor([0.5800])), ('bias', tensor([0.3503]))])\n",
            "Epoch: 101 | Test: 0.024110013619065285 | Test loss: 0.05536102131009102\n",
            "OrderedDict([('weights', tensor([0.5818])), ('bias', tensor([0.3498]))])\n",
            "Epoch: 112 | Test: 0.02033500373363495 | Test loss: 0.046673357486724854\n",
            "OrderedDict([('weights', tensor([0.6006])), ('bias', tensor([0.3418]))])\n",
            "Epoch: 113 | Test: 0.01998869702219963 | Test loss: 0.04625822976231575\n",
            "OrderedDict([('weights', tensor([0.6022])), ('bias', tensor([0.3408]))])\n",
            "Epoch: 116 | Test: 0.018963487818837166 | Test loss: 0.04363910108804703\n",
            "OrderedDict([('weights', tensor([0.6074])), ('bias', tensor([0.3388]))])\n",
            "Epoch: 117 | Test: 0.01861560344696045 | Test loss: 0.04253707453608513\n",
            "OrderedDict([('weights', tensor([0.6092])), ('bias', tensor([0.3383]))])\n",
            "Epoch: 128 | Test: 0.014840595424175262 | Test loss: 0.03384942561388016\n",
            "OrderedDict([('weights', tensor([0.6279])), ('bias', tensor([0.3303]))])\n",
            "Epoch: 129 | Test: 0.01449323259294033 | Test loss: 0.03343429043889046\n",
            "OrderedDict([('weights', tensor([0.6295])), ('bias', tensor([0.3293]))])\n",
            "Epoch: 132 | Test: 0.013468016870319843 | Test loss: 0.030815154314041138\n",
            "OrderedDict([('weights', tensor([0.6347])), ('bias', tensor([0.3273]))])\n",
            "Epoch: 133 | Test: 0.013121193274855614 | Test loss: 0.02971314825117588\n",
            "OrderedDict([('weights', tensor([0.6365])), ('bias', tensor([0.3268]))])\n",
            "Epoch: 144 | Test: 0.009346187114715576 | Test loss: 0.021025484427809715\n",
            "OrderedDict([('weights', tensor([0.6552])), ('bias', tensor([0.3188]))])\n",
            "Epoch: 145 | Test: 0.008997755125164986 | Test loss: 0.020610356703400612\n",
            "OrderedDict([('weights', tensor([0.6568])), ('bias', tensor([0.3178]))])\n",
            "Epoch: 148 | Test: 0.007972544990479946 | Test loss: 0.017991220578551292\n",
            "OrderedDict([('weights', tensor([0.6620])), ('bias', tensor([0.3158]))])\n",
            "Epoch: 149 | Test: 0.007626785431057215 | Test loss: 0.016889220103621483\n",
            "OrderedDict([('weights', tensor([0.6638])), ('bias', tensor([0.3153]))])\n",
            "Epoch: 160 | Test: 0.0038517764769494534 | Test loss: 0.008201557211577892\n",
            "OrderedDict([('weights', tensor([0.6826])), ('bias', tensor([0.3073]))])\n",
            "Epoch: 161 | Test: 0.0035027749836444855 | Test loss: 0.007099539041519165\n",
            "OrderedDict([('weights', tensor([0.6844])), ('bias', tensor([0.3068]))])\n",
            "Epoch: 164 | Test: 0.0024770735763013363 | Test loss: 0.005167287774384022\n",
            "OrderedDict([('weights', tensor([0.6894])), ('bias', tensor([0.3043]))])\n",
            "Epoch: 165 | Test: 0.0021323717664927244 | Test loss: 0.004065275192260742\n",
            "OrderedDict([('weights', tensor([0.6912])), ('bias', tensor([0.3038]))])\n",
            "Epoch: 176 | Test: 0.008932482451200485 | Test loss: 0.005023092031478882\n",
            "OrderedDict([('weights', tensor([0.6951])), ('bias', tensor([0.2993]))])\n",
            "Epoch: 177 | Test: 0.0025885067880153656 | Test loss: 0.008447891101241112\n",
            "OrderedDict([('weights', tensor([0.6990])), ('bias', tensor([0.3093]))])\n",
            "Epoch: 180 | Test: 0.008932482451200485 | Test loss: 0.005023092031478882\n",
            "OrderedDict([('weights', tensor([0.6951])), ('bias', tensor([0.2993]))])\n",
            "Epoch: 181 | Test: 0.0025885067880153656 | Test loss: 0.008447891101241112\n",
            "OrderedDict([('weights', tensor([0.6990])), ('bias', tensor([0.3093]))])\n",
            "Epoch: 192 | Test: 0.008932482451200485 | Test loss: 0.005023092031478882\n",
            "OrderedDict([('weights', tensor([0.6951])), ('bias', tensor([0.2993]))])\n",
            "Epoch: 193 | Test: 0.0025885067880153656 | Test loss: 0.008447891101241112\n",
            "OrderedDict([('weights', tensor([0.6990])), ('bias', tensor([0.3093]))])\n",
            "Epoch: 196 | Test: 0.008932482451200485 | Test loss: 0.005023092031478882\n",
            "OrderedDict([('weights', tensor([0.6951])), ('bias', tensor([0.2993]))])\n",
            "Epoch: 197 | Test: 0.0025885067880153656 | Test loss: 0.008447891101241112\n",
            "OrderedDict([('weights', tensor([0.6990])), ('bias', tensor([0.3093]))])\n"
          ]
        }
      ]
    },
    {
      "cell_type": "code",
      "source": [
        "loss_values"
      ],
      "metadata": {
        "colab": {
          "base_uri": "https://localhost:8080/"
        },
        "id": "ZZyJL9gn8IRC",
        "outputId": "844d9467-3c62-4758-f64c-ef5f6ffc4afa"
      },
      "execution_count": 43,
      "outputs": [
        {
          "output_type": "execute_result",
          "data": {
            "text/plain": [
              "[tensor(0.3129, grad_fn=<MeanBackward0>),\n",
              " tensor(0.3014, grad_fn=<MeanBackward0>),\n",
              " tensor(0.2668, grad_fn=<MeanBackward0>),\n",
              " tensor(0.2553, grad_fn=<MeanBackward0>),\n",
              " tensor(0.1285, grad_fn=<MeanBackward0>),\n",
              " tensor(0.1170, grad_fn=<MeanBackward0>),\n",
              " tensor(0.0891, grad_fn=<MeanBackward0>),\n",
              " tensor(0.0823, grad_fn=<MeanBackward0>),\n",
              " tensor(0.0507, grad_fn=<MeanBackward0>),\n",
              " tensor(0.0498, grad_fn=<MeanBackward0>),\n",
              " tensor(0.0475, grad_fn=<MeanBackward0>),\n",
              " tensor(0.0469, grad_fn=<MeanBackward0>),\n",
              " tensor(0.0424, grad_fn=<MeanBackward0>),\n",
              " tensor(0.0420, grad_fn=<MeanBackward0>),\n",
              " tensor(0.0410, grad_fn=<MeanBackward0>),\n",
              " tensor(0.0406, grad_fn=<MeanBackward0>),\n",
              " tensor(0.0368, grad_fn=<MeanBackward0>),\n",
              " tensor(0.0365, grad_fn=<MeanBackward0>),\n",
              " tensor(0.0354, grad_fn=<MeanBackward0>),\n",
              " tensor(0.0351, grad_fn=<MeanBackward0>),\n",
              " tensor(0.0313, grad_fn=<MeanBackward0>),\n",
              " tensor(0.0310, grad_fn=<MeanBackward0>),\n",
              " tensor(0.0300, grad_fn=<MeanBackward0>),\n",
              " tensor(0.0296, grad_fn=<MeanBackward0>),\n",
              " tensor(0.0258, grad_fn=<MeanBackward0>),\n",
              " tensor(0.0255, grad_fn=<MeanBackward0>),\n",
              " tensor(0.0245, grad_fn=<MeanBackward0>),\n",
              " tensor(0.0241, grad_fn=<MeanBackward0>),\n",
              " tensor(0.0203, grad_fn=<MeanBackward0>),\n",
              " tensor(0.0200, grad_fn=<MeanBackward0>),\n",
              " tensor(0.0190, grad_fn=<MeanBackward0>),\n",
              " tensor(0.0186, grad_fn=<MeanBackward0>),\n",
              " tensor(0.0148, grad_fn=<MeanBackward0>),\n",
              " tensor(0.0145, grad_fn=<MeanBackward0>),\n",
              " tensor(0.0135, grad_fn=<MeanBackward0>),\n",
              " tensor(0.0131, grad_fn=<MeanBackward0>),\n",
              " tensor(0.0093, grad_fn=<MeanBackward0>),\n",
              " tensor(0.0090, grad_fn=<MeanBackward0>),\n",
              " tensor(0.0080, grad_fn=<MeanBackward0>),\n",
              " tensor(0.0076, grad_fn=<MeanBackward0>),\n",
              " tensor(0.0039, grad_fn=<MeanBackward0>),\n",
              " tensor(0.0035, grad_fn=<MeanBackward0>),\n",
              " tensor(0.0025, grad_fn=<MeanBackward0>),\n",
              " tensor(0.0021, grad_fn=<MeanBackward0>),\n",
              " tensor(0.0089, grad_fn=<MeanBackward0>),\n",
              " tensor(0.0026, grad_fn=<MeanBackward0>),\n",
              " tensor(0.0089, grad_fn=<MeanBackward0>),\n",
              " tensor(0.0026, grad_fn=<MeanBackward0>),\n",
              " tensor(0.0089, grad_fn=<MeanBackward0>),\n",
              " tensor(0.0026, grad_fn=<MeanBackward0>),\n",
              " tensor(0.0089, grad_fn=<MeanBackward0>),\n",
              " tensor(0.0026, grad_fn=<MeanBackward0>)]"
            ]
          },
          "metadata": {},
          "execution_count": 43
        }
      ]
    },
    {
      "cell_type": "code",
      "source": [
        "test_loss_values"
      ],
      "metadata": {
        "colab": {
          "base_uri": "https://localhost:8080/"
        },
        "id": "pg-Ok1QJ8Lk_",
        "outputId": "d0590bdb-2db5-4886-801e-7c9748332d5b"
      },
      "execution_count": 44,
      "outputs": [
        {
          "output_type": "execute_result",
          "data": {
            "text/plain": [
              "[tensor(0.4811),\n",
              " tensor(0.4676),\n",
              " tensor(0.4272),\n",
              " tensor(0.4137),\n",
              " tensor(0.2655),\n",
              " tensor(0.2521),\n",
              " tensor(0.2173),\n",
              " tensor(0.2070),\n",
              " tensor(0.1365),\n",
              " tensor(0.1327),\n",
              " tensor(0.1227),\n",
              " tensor(0.1203),\n",
              " tensor(0.1014),\n",
              " tensor(0.1003),\n",
              " tensor(0.0970),\n",
              " tensor(0.0959),\n",
              " tensor(0.0851),\n",
              " tensor(0.0847),\n",
              " tensor(0.0821),\n",
              " tensor(0.0810),\n",
              " tensor(0.0723),\n",
              " tensor(0.0719),\n",
              " tensor(0.0693),\n",
              " tensor(0.0682),\n",
              " tensor(0.0595),\n",
              " tensor(0.0591),\n",
              " tensor(0.0565),\n",
              " tensor(0.0554),\n",
              " tensor(0.0467),\n",
              " tensor(0.0463),\n",
              " tensor(0.0436),\n",
              " tensor(0.0425),\n",
              " tensor(0.0338),\n",
              " tensor(0.0334),\n",
              " tensor(0.0308),\n",
              " tensor(0.0297),\n",
              " tensor(0.0210),\n",
              " tensor(0.0206),\n",
              " tensor(0.0180),\n",
              " tensor(0.0169),\n",
              " tensor(0.0082),\n",
              " tensor(0.0071),\n",
              " tensor(0.0052),\n",
              " tensor(0.0041),\n",
              " tensor(0.0050),\n",
              " tensor(0.0084),\n",
              " tensor(0.0050),\n",
              " tensor(0.0084),\n",
              " tensor(0.0050),\n",
              " tensor(0.0084),\n",
              " tensor(0.0050),\n",
              " tensor(0.0084)]"
            ]
          },
          "metadata": {},
          "execution_count": 44
        }
      ]
    },
    {
      "cell_type": "code",
      "source": [
        "## Plot loss curve\n",
        "# plt.plot(epoch_count, loss_values, label=\"Train Loss\") # Need to convert tensor type from loss_values to numpy to plot\n",
        "\n",
        "import numpy as np\n",
        "plt.plot(epoch_count, np.array(torch.tensor(loss_values).numpy()), label=\"Train Loss\")\n",
        "plt.plot(epoch_count, test_loss_values, label=\"Test Loss\")\n",
        "plt.title(\"Train & Test Loss Curves\")\n",
        "plt.xlabel(\"Epochs\")\n",
        "plt.ylabel(\"Loss\")\n",
        "plt.legend()"
      ],
      "metadata": {
        "colab": {
          "base_uri": "https://localhost:8080/",
          "height": 489
        },
        "id": "1Xc0Ed3p7cbl",
        "outputId": "97b7d20e-f556-4d6b-961a-81c361d57065"
      },
      "execution_count": 48,
      "outputs": [
        {
          "output_type": "execute_result",
          "data": {
            "text/plain": [
              "<matplotlib.legend.Legend at 0x7cbaebbe09a0>"
            ]
          },
          "metadata": {},
          "execution_count": 48
        },
        {
          "output_type": "display_data",
          "data": {
            "text/plain": [
              "<Figure size 640x480 with 1 Axes>"
            ],
            "image/png": "[encoded data removed]"
          },
          "metadata": {}
        }
      ]
    },
    {
      "cell_type": "code",
      "source": [
        "with torch.inference_mode():\n",
        "  y_preds_new = lin_reg(X_test)"
      ],
      "metadata": {
        "id": "J1sVDTzspGnq"
      },
      "execution_count": 39,
      "outputs": []
    },
    {
      "cell_type": "code",
      "source": [
        "lin_reg.state_dict()"
      ],
      "metadata": {
        "colab": {
          "base_uri": "https://localhost:8080/"
        },
        "id": "wdNLxSaX51N4",
        "outputId": "519533e2-05fe-46a8-92fe-6f50fd1589c4"
      },
      "execution_count": 40,
      "outputs": [
        {
          "output_type": "execute_result",
          "data": {
            "text/plain": [
              "OrderedDict([('weights', tensor([0.6990])), ('bias', tensor([0.3093]))])"
            ]
          },
          "metadata": {},
          "execution_count": 40
        }
      ]
    },
    {
      "cell_type": "code",
      "source": [
        "plot_pred(pred=y_preds)"
      ],
      "metadata": {
        "colab": {
          "base_uri": "https://localhost:8080/",
          "height": 599
        },
        "id": "z_AagtnGqMoG",
        "outputId": "a55438b5-fc41-4c61-9276-2cef65555c7e"
      },
      "execution_count": 41,
      "outputs": [
        {
          "output_type": "display_data",
          "data": {
            "text/plain": [
              "<Figure size 1000x700 with 1 Axes>"
            ],
            "image/png": "[encoded data removed]"
          },
          "metadata": {}
        }
      ]
    },
    {
      "cell_type": "code",
      "source": [
        "plot_pred(pred=y_preds_new)"
      ],
      "metadata": {
        "colab": {
          "base_uri": "https://localhost:8080/",
          "height": 599
        },
        "id": "IT8m8HExqcCC",
        "outputId": "989c1fce-9378-4902-8516-f106463b9539"
      },
      "execution_count": 42,
      "outputs": [
        {
          "output_type": "display_data",
          "data": {
            "text/plain": [
              "<Figure size 1000x700 with 1 Axes>"
            ],
            "image/png": "[encoded data removed]"
          },
          "metadata": {}
        }
      ]
    }
  ]
}